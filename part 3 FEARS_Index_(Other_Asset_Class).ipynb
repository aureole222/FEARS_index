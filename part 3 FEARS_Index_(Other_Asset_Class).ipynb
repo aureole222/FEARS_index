{
  "nbformat": 4,
  "nbformat_minor": 0,
  "metadata": {
    "kernelspec": {
      "display_name": "Python 3",
      "language": "python",
      "name": "python3"
    },
    "language_info": {
      "codemirror_mode": {
        "name": "ipython",
        "version": 3
      },
      "file_extension": ".py",
      "mimetype": "text/x-python",
      "name": "python",
      "nbconvert_exporter": "python",
      "pygments_lexer": "ipython3",
      "version": "3.7.4"
    },
    "colab": {
      "name": "FEARS_Index_(Other_Asset_Class).ipynb",
      "provenance": [],
      "collapsed_sections": [],
      "toc_visible": true
    }
  },
  "cells": [
    {
      "cell_type": "code",
      "metadata": {
        "id": "53HNTI16Ifd0",
        "colab_type": "code",
        "colab": {}
      },
      "source": [
        "!pip install pytrends"
      ],
      "execution_count": 0,
      "outputs": []
    },
    {
      "cell_type": "code",
      "metadata": {
        "id": "fBa2gOOWIfd6",
        "colab_type": "code",
        "colab": {}
      },
      "source": [
        "import pandas as pd\n",
        "import numpy as np\n",
        "import datetime \n",
        "import os\n",
        "import matplotlib.pyplot as plt\n",
        "import scipy.stats\n",
        "import statsmodels.api as sm"
      ],
      "execution_count": 0,
      "outputs": []
    },
    {
      "cell_type": "code",
      "metadata": {
        "id": "8Gk27uKgIfeB",
        "colab_type": "code",
        "colab": {}
      },
      "source": [
        "def update_df2(this_df,df):\n",
        "    '''\n",
        "    This function aims to merge two time series into one dataframe\n",
        "    And it also fill missing dates with extra column\n",
        "    '''\n",
        "    try:\n",
        "        df['date']=pd.to_datetime(df['date'], format='%Y-%m-%d')\n",
        "    except:\n",
        "        try:\n",
        "            df['date']=pd.to_datetime(df['date'], format='%d/%m/%Y')\n",
        "        except:\n",
        "            df['date']=pd.to_datetime(df['date'])\n",
        "    df=df.set_index('date')\n",
        "    df.index = pd.DatetimeIndex(df.index)\n",
        "    #remove the duplicated index\n",
        "    df = df[~df.index.duplicated()]\n",
        "    df = df.reindex(idx)\n",
        "    try:\n",
        "        df=df.drop(['_id'], axis=1)     \n",
        "    except:\n",
        "        pass\n",
        "    \n",
        "    # merge two data \n",
        "    if len(this_df)==0:\n",
        "        if len(df)!=0:\n",
        "            this_df=df\n",
        "    else:\n",
        "        this_df=pd.concat([this_df,df],axis=1)\n",
        "    return this_df\n",
        "\n",
        "# setup necessaty parameter\n",
        "\n",
        "\n",
        "idx = pd.date_range('2005-01-01', '2020-01-31')\n",
        "\n",
        "\n",
        "def load_daily_index(path = 'merged_data/',file_name='daily_trends.csv',force_update=False,debug=False):\n",
        "    csv_files  = []\n",
        "    xlsx_files = []\n",
        "\n",
        "    def action1(cache=[]):\n",
        "        for r, d, f in os.walk(path):\n",
        "            for file in f:\n",
        "                if '.csv' in file:\n",
        "                    csv_files.append(os.path.join(r, file))\n",
        "                if '.xlsx' in file:\n",
        "                    xlsx_files.append(os.path.join(r, file))\n",
        "        # concate and merge all the dataframes\n",
        "        for file in csv_files:\n",
        "            if debug==True:\n",
        "                print('\\r'+file,end='')\n",
        "            df=pd.read_csv(file).iloc[:,[0,5]]\n",
        "            cache = update_df2(cache,df)\n",
        "\n",
        "        for file in xlsx_files:\n",
        "            df=pd.read_excel(file).iloc[:,[0,5]]\n",
        "            cache = update_df2(cache,df)\n",
        "        # save daily data to one csv\n",
        "        cache.to_csv('merged_data/'+file_name)\n",
        "        return cache\n",
        "    \n",
        "    if force_update == False:\n",
        "        try:\n",
        "            this_df = pd.read_csv('merged_data/'+file_name,index_col=0)\n",
        "        except:\n",
        "            this_df = action1()\n",
        "    else:\n",
        "        this_df = action1()\n",
        "    return this_df"
      ],
      "execution_count": 0,
      "outputs": []
    },
    {
      "cell_type": "code",
      "metadata": {
        "id": "P5xkH_jrIfeJ",
        "colab_type": "code",
        "colab": {}
      },
      "source": [
        "# this is the 30 words that is shown by the paper\n",
        "daily_trends=load_daily_index(force_update=False)\n",
        "daily_trends.index = pd.DatetimeIndex(daily_trends.index)"
      ],
      "execution_count": 0,
      "outputs": []
    },
    {
      "cell_type": "code",
      "metadata": {
        "id": "IVDodnxhIfeM",
        "colab_type": "code",
        "colab": {}
      },
      "source": [
        "daily_trends = daily_trends.replace({0:1})  # replace 0 search with 1 to avoid problem\n",
        "return_ratio = np.log(daily_trends.iloc[1:,:])-np.log(daily_trends.iloc[:-1,:].values)\n",
        "for column in list(return_ratio):   \n",
        "    return_ratio.loc[:,column] = scipy.stats.mstats.winsorize(return_ratio.loc[:,column].values, limits=[0.05, 0.05])"
      ],
      "execution_count": 0,
      "outputs": []
    },
    {
      "cell_type": "markdown",
      "metadata": {
        "id": "RHAsQ3XlIfeU",
        "colab_type": "text"
      },
      "source": [
        "### Now remove the seasonality"
      ]
    },
    {
      "cell_type": "code",
      "metadata": {
        "id": "IOIxTTx5IfeU",
        "colab_type": "code",
        "colab": {
          "base_uri": "https://localhost:8080/",
          "height": 809
        },
        "outputId": "e143a97a-5f47-4586-92a9-09dcd08134d6"
      },
      "source": [
        "from statsmodels.tsa.seasonal import seasonal_decompose\n",
        "\n",
        "data = return_ratio.loc[:,'PRICE OF GOLD']\n",
        "weekly = seasonal_decompose(data, freq=7)\n",
        "plt.plot(weekly.seasonal[1:21])\n",
        "plt.title('weekly trend')\n",
        "plt.show()\n",
        "data = data - weekly.seasonal\n",
        "monthly = seasonal_decompose(data, freq=30)\n",
        "data = data - monthly.seasonal\n",
        "\n",
        "\n",
        "plt.plot(monthly.seasonal[1:60])\n",
        "plt.title('monthly trend')\n",
        "plt.show()\n",
        "\n",
        "plt.plot(data.values[1:30])\n",
        "plt.title('data with seasonality removed')\n",
        "plt.show()\n",
        "\n",
        "\n",
        "\n",
        "def remove_seasonality(data):\n",
        "    weekly = seasonal_decompose(data, freq=7)\n",
        "    r = data - weekly.seasonal\n",
        "    monthly = seasonal_decompose(r, freq=30)\n",
        "    r = r - monthly.seasonal\n",
        "    return r\n",
        "\n",
        "# remove seasonality on weekly and monthly dummy, and standardized by scaling each on standard deviation\n",
        "original_return = return_ratio.copy()\n",
        "for column in list(return_ratio):   \n",
        "    return_ratio.loc[:,column] = remove_seasonality(return_ratio.loc[:,column])\n",
        "    return_ratio.loc[:,column] /= np.std(return_ratio.loc[:,column].values)"
      ],
      "execution_count": 6,
      "outputs": [
        {
          "output_type": "display_data",
          "data": {
            "image/png": "[encoded data removed]",
            "text/plain": [
              "<Figure size 432x288 with 1 Axes>"
            ]
          },
          "metadata": {
            "tags": [],
            "needs_background": "light"
          }
        },
        {
          "output_type": "display_data",
          "data": {
            "image/png": "[encoded data removed]",
            "text/plain": [
              "<Figure size 432x288 with 1 Axes>"
            ]
          },
          "metadata": {
            "tags": [],
            "needs_background": "light"
          }
        },
        {
          "output_type": "display_data",
          "data": {
            "image/png": "[encoded data removed]",
            "text/plain": [
              "<Figure size 432x288 with 1 Axes>"
            ]
          },
          "metadata": {
            "tags": [],
            "needs_background": "light"
          }
        }
      ]
    },
    {
      "cell_type": "code",
      "metadata": {
        "id": "Ly_801IPIfeX",
        "colab_type": "code",
        "colab": {}
      },
      "source": [
        "return_ratio['fears_index'] = return_ratio.sum(axis=1)/30\n",
        "original_return['fears_index'] = original_return.sum(axis=1)/30"
      ],
      "execution_count": 0,
      "outputs": []
    },
    {
      "cell_type": "code",
      "metadata": {
        "id": "sBw2gh-5Ifef",
        "colab_type": "code",
        "colab": {}
      },
      "source": [
        "SPY=pd.read_csv('merged_data/SPY.csv').iloc[:,[0,4]]\n",
        "SPY['Date']=pd.to_datetime(SPY['Date'], format='%Y-%m-%d')\n",
        "SPY=SPY.set_index('Date')\n",
        "SPY.columns=['SPY']\n",
        "SPY = np.log(SPY.iloc[1:,:])-np.log(SPY.iloc[:-1,:].values)\n",
        "\n",
        "IWB=pd.read_csv('merged_data/IWB.csv').iloc[:,[0,4]]\n",
        "IWB['Date']=pd.to_datetime(IWB['Date'], format='%Y-%m-%d')\n",
        "IWB=IWB.set_index('Date')\n",
        "IWB.columns=['IWB']\n",
        "IWB = np.log(IWB.iloc[1:,:])-np.log(IWB.iloc[:-1,:].values)\n",
        "\n",
        "IWM=pd.read_csv('merged_data/IWM.csv').iloc[:,[0,4]]\n",
        "IWM['Date']=pd.to_datetime(IWM['Date'], format='%Y-%m-%d')\n",
        "IWM=IWM.set_index('Date')\n",
        "IWM.columns=['IWM']\n",
        "IWM = np.log(IWM.iloc[1:,:])-np.log(IWM.iloc[:-1,:].values)\n"
      ],
      "execution_count": 0,
      "outputs": []
    },
    {
      "cell_type": "code",
      "metadata": {
        "id": "HLbts27YIfek",
        "colab_type": "code",
        "colab": {}
      },
      "source": [
        "EPU=pd.read_excel('merged_data/All_Daily_Policy_Data.xlsx')\n",
        "EPU['Date']=pd.to_datetime(EPU['Date'], format='%d/%m/%Y')\n",
        "EPU = EPU.set_index('Date')\n",
        "EPU.columns=['EPU']\n",
        "EPU = np.log(EPU.iloc[1:,:])-np.log(EPU.iloc[:-1,:].values)\n",
        "\n",
        "ADS=pd.read_excel('merged_data/ADS_Index_Most_Current_Vintage.xlsx',index_col=0)\n",
        "ADS.columns=['ADS']\n",
        "ADS = (ADS.iloc[1:,:]-ADS.iloc[:-1,:].values).divide(ADS.iloc[:-1,:].values)\n",
        "\n",
        "VIX = pd.read_csv('merged_data/vixcurrent.csv').iloc[:,[0,4]]\n",
        "VIX['Date']=pd.to_datetime(VIX['Date'], format='%m/%d/%Y')\n",
        "VIX = VIX.set_index('Date')\n",
        "VIX.columns=['VIX']\n",
        "VIX = np.log(VIX.iloc[1:,:])-np.log(VIX.iloc[:-1,:].values)"
      ],
      "execution_count": 0,
      "outputs": []
    },
    {
      "cell_type": "code",
      "metadata": {
        "id": "lWhIcZ_aIfen",
        "colab_type": "code",
        "colab": {}
      },
      "source": [
        "# first read the data\n",
        "all_daily_trends = load_daily_index(path = '111_google_trend/',file_name='111_daily_trends.csv', force_update=False,debug=True)\n",
        "all_daily_trends = all_daily_trends.loc[:,(all_daily_trends.isna().sum()<100).values]  # remove column with too many missing value"
      ],
      "execution_count": 0,
      "outputs": []
    },
    {
      "cell_type": "code",
      "metadata": {
        "id": "VW8kVL0XIfes",
        "colab_type": "code",
        "colab": {}
      },
      "source": [
        "all_daily_trends = all_daily_trends.replace({0:1})  # replace 0 search with 1 to avoid problem\n",
        "all_return_ratio = np.log(all_daily_trends.iloc[1:,:])-np.log(all_daily_trends.iloc[:-1,:].values)\n",
        "\n",
        "for column in list(all_return_ratio):              \n",
        "    # winsorize data\n",
        "    all_return_ratio.loc[:,column] = scipy.stats.mstats.winsorize(all_return_ratio.loc[:,column].values, limits=[0.05, 0.05])\n",
        "    # remove seasonality\n",
        "    all_return_ratio.loc[:,column] = remove_seasonality(all_return_ratio.loc[:,column])\n",
        "    # removeheteroscedasticity\n",
        "    all_return_ratio.loc[:,column] /= np.std(all_return_ratio.loc[:,column].values)\n",
        "all_return_ratio.index = pd.DatetimeIndex(all_return_ratio.index)"
      ],
      "execution_count": 0,
      "outputs": []
    },
    {
      "cell_type": "code",
      "metadata": {
        "id": "Ki9da_3rIfeu",
        "colab_type": "code",
        "colab": {}
      },
      "source": [
        "def create_dynamic_index_SPY(frequency,all_return_ratio,SPY):\n",
        "    all_return_with_Fears = all_return_ratio.copy()\n",
        "    start_date = pd.Timestamp(year=2005, month=1, day=2).date()\n",
        "    end_date = start_date + pd.Timedelta(frequency*30,unit='D')\n",
        "    next_end_date = end_date + pd.Timedelta(frequency*30,unit='D')\n",
        "\n",
        "\n",
        "    while next_end_date<pd.Timestamp(year=2020, month=1, day=30).date():\n",
        "        print('\\r now end time is '+str(end_date),end='')\n",
        "        # seperate the dataset into several time segements \n",
        "        selected_data = all_return_ratio.loc[pd.date_range(start_date,end_date),:]\n",
        "\n",
        "        # includes return data\n",
        "        word_choices = list(selected_data)\n",
        "        selected_data_SPY = selected_data.join(SPY,how='inner')\n",
        "        ranking = []\n",
        "\n",
        "        # run regression on all 104 words within this selected periods\n",
        "        for word in word_choices:\n",
        "            X = sm.add_constant(selected_data_SPY.loc[:,[word]])\n",
        "            model = sm.OLS(selected_data_SPY.loc[:,['SPY']], X).fit()   # run regression\n",
        "            t_stats = pd.read_html(model.summary().tables[1].as_html(),header=0,index_col=0)[0]['t'][1]\n",
        "            ranking.append([t_stats,word])    # save word and t statistics\n",
        "\n",
        "        # select the 30 most negative words\n",
        "        ranking.sort()\n",
        "        negative_30_words = [ranking[i][1] for i in range(30)] \n",
        "        this_fears_index = selected_data.loc[:,negative_30_words].sum(axis=1)/30\n",
        "\n",
        "        # update the fears index\n",
        "        all_return_with_Fears.loc[(all_return_with_Fears.index>=pd.Timestamp(end_date)) & (all_return_with_Fears.index<=pd.Timestamp(next_end_date)),'FEARS'] = this_fears_index.values\n",
        "        start_date = end_date\n",
        "        end_date = next_end_date\n",
        "        next_end_date = next_end_date + pd.Timedelta(frequency*30,unit='D')\n",
        "    Fears_index = all_return_with_Fears.loc[all_return_with_Fears.FEARS.isna()!=True,['FEARS']]\n",
        "    return Fears_index"
      ],
      "execution_count": 0,
      "outputs": []
    },
    {
      "cell_type": "code",
      "metadata": {
        "id": "_Qyvv314aqsG",
        "colab_type": "code",
        "colab": {}
      },
      "source": [
        "def create_dynamic_index_IWB(frequency,all_return_ratio,IWB):\n",
        "    all_return_with_Fears = all_return_ratio.copy()\n",
        "    start_date = pd.Timestamp(year=2005, month=1, day=2).date()\n",
        "    end_date = start_date + pd.Timedelta(frequency*30,unit='D')\n",
        "    next_end_date = end_date + pd.Timedelta(frequency*30,unit='D')\n",
        "\n",
        "\n",
        "    while next_end_date<pd.Timestamp(year=2020, month=1, day=30).date():\n",
        "        print('\\r now end time is '+str(end_date),end='')\n",
        "        # seperate the dataset into several time segements \n",
        "        selected_data = all_return_ratio.loc[pd.date_range(start_date,end_date),:]\n",
        "\n",
        "        # includes return data\n",
        "        word_choices = list(selected_data)\n",
        "        selected_data_IWB = selected_data.join(IWB,how='inner')\n",
        "        ranking = []\n",
        "\n",
        "        # run regression on all 104 words within this selected periods\n",
        "        for word in word_choices:\n",
        "            X = sm.add_constant(selected_data_IWB.loc[:,[word]])\n",
        "            model = sm.OLS(selected_data_IWB.loc[:,['IWB']], X).fit()   # run regression\n",
        "            t_stats = pd.read_html(model.summary().tables[1].as_html(),header=0,index_col=0)[0]['t'][1]\n",
        "            ranking.append([t_stats,word])    # save word and t statistics\n",
        "\n",
        "        # select the 30 most negative words\n",
        "        ranking.sort()\n",
        "        negative_30_words = [ranking[i][1] for i in range(30)] \n",
        "        this_fears_index = selected_data.loc[:,negative_30_words].sum(axis=1)/30\n",
        "\n",
        "        # update the fears index\n",
        "        all_return_with_Fears.loc[(all_return_with_Fears.index>=pd.Timestamp(end_date)) & (all_return_with_Fears.index<=pd.Timestamp(next_end_date)),'FEARS'] = this_fears_index.values\n",
        "        start_date = end_date\n",
        "        end_date = next_end_date\n",
        "        next_end_date = next_end_date + pd.Timedelta(frequency*30,unit='D')\n",
        "    Fears_index = all_return_with_Fears.loc[all_return_with_Fears.FEARS.isna()!=True,['FEARS']]\n",
        "    return Fears_index"
      ],
      "execution_count": 0,
      "outputs": []
    },
    {
      "cell_type": "code",
      "metadata": {
        "id": "2sNm0RNHa_rc",
        "colab_type": "code",
        "colab": {}
      },
      "source": [
        "def create_dynamic_index_IWM(frequency,all_return_ratio,IWM):\n",
        "    all_return_with_Fears = all_return_ratio.copy()\n",
        "    start_date = pd.Timestamp(year=2005, month=1, day=2).date()\n",
        "    end_date = start_date + pd.Timedelta(frequency*30,unit='D')\n",
        "    next_end_date = end_date + pd.Timedelta(frequency*30,unit='D')\n",
        "\n",
        "\n",
        "    while next_end_date<pd.Timestamp(year=2020, month=1, day=30).date():\n",
        "        print('\\r now end time is '+str(end_date),end='')\n",
        "        # seperate the dataset into several time segements \n",
        "        selected_data = all_return_ratio.loc[pd.date_range(start_date,end_date),:]\n",
        "\n",
        "        # includes return data\n",
        "        word_choices = list(selected_data)\n",
        "        selected_data_IWM = selected_data.join(IWM,how='inner')\n",
        "        ranking = []\n",
        "\n",
        "        # run regression on all 104 words within this selected periods\n",
        "        for word in word_choices:\n",
        "            X = sm.add_constant(selected_data_IWM.loc[:,[word]])\n",
        "            model = sm.OLS(selected_data_IWM.loc[:,['IWM']], X).fit()   # run regression\n",
        "            t_stats = pd.read_html(model.summary().tables[1].as_html(),header=0,index_col=0)[0]['t'][1]\n",
        "            ranking.append([t_stats,word])    # save word and t statistics\n",
        "\n",
        "        # select the 30 most negative words\n",
        "        ranking.sort()\n",
        "        negative_30_words = [ranking[i][1] for i in range(30)] \n",
        "        this_fears_index = selected_data.loc[:,negative_30_words].sum(axis=1)/30\n",
        "\n",
        "        # update the fears index\n",
        "        all_return_with_Fears.loc[(all_return_with_Fears.index>=pd.Timestamp(end_date)) & (all_return_with_Fears.index<=pd.Timestamp(next_end_date)),'FEARS'] = this_fears_index.values\n",
        "        start_date = end_date\n",
        "        end_date = next_end_date\n",
        "        next_end_date = next_end_date + pd.Timedelta(frequency*30,unit='D')\n",
        "    Fears_index = all_return_with_Fears.loc[all_return_with_Fears.FEARS.isna()!=True,['FEARS']]\n",
        "    return Fears_index"
      ],
      "execution_count": 0,
      "outputs": []
    },
    {
      "cell_type": "code",
      "metadata": {
        "id": "TfRON-PaIfex",
        "colab_type": "code",
        "outputId": "e9b3b3a2-0caa-41ab-b474-94cfd22dc030",
        "colab": {
          "base_uri": "https://localhost:8080/",
          "height": 35
        }
      },
      "source": [
        "Fears_index_SPY = create_dynamic_index_SPY(6, all_return_ratio,SPY)"
      ],
      "execution_count": 16,
      "outputs": [
        {
          "output_type": "stream",
          "text": [
            " now end time is 2019-04-19"
          ],
          "name": "stdout"
        }
      ]
    },
    {
      "cell_type": "code",
      "metadata": {
        "id": "QxWL03ulYm1X",
        "colab_type": "code",
        "outputId": "0d85f10c-14a8-4ed0-f04a-ce9bc80a8b52",
        "colab": {
          "base_uri": "https://localhost:8080/",
          "height": 35
        }
      },
      "source": [
        "Fears_index_IWB = create_dynamic_index_IWB(6, all_return_ratio,IWB)"
      ],
      "execution_count": 17,
      "outputs": [
        {
          "output_type": "stream",
          "text": [
            " now end time is 2019-04-19"
          ],
          "name": "stdout"
        }
      ]
    },
    {
      "cell_type": "code",
      "metadata": {
        "id": "TdCODoJnYoUU",
        "colab_type": "code",
        "outputId": "4d4dd66c-9c79-43ea-faf8-b9e865b9e3ca",
        "colab": {
          "base_uri": "https://localhost:8080/",
          "height": 35
        }
      },
      "source": [
        "Fears_index_IWM = create_dynamic_index_IWM(6, all_return_ratio,IWM)"
      ],
      "execution_count": 18,
      "outputs": [
        {
          "output_type": "stream",
          "text": [
            " now end time is 2019-04-19"
          ],
          "name": "stdout"
        }
      ]
    },
    {
      "cell_type": "markdown",
      "metadata": {
        "scrolled": true,
        "id": "AUJ6qfIzIfe2",
        "colab_type": "text"
      },
      "source": [
        "## SPY"
      ]
    },
    {
      "cell_type": "code",
      "metadata": {
        "id": "vvQ6rvlxIfe3",
        "colab_type": "code",
        "outputId": "c9c9f635-791e-40a7-f4c8-227993d040bf",
        "colab": {
          "base_uri": "https://localhost:8080/",
          "height": 35
        }
      },
      "source": [
        "merged_data= SPY.join(EPU,how='inner')\n",
        "merged_data= merged_data.join(ADS,how='inner')\n",
        "merged_data= merged_data.join(VIX,how='inner')\n",
        "merged_data= merged_data.join(return_ratio.fears_index,how='inner')\n",
        "merged_data= merged_data.join(Fears_index_SPY,how='inner').rename(columns={'fears_index':'static_fears','FEARS':'6month_dynamic_fears'})\n",
        "merged_data.head()\n",
        "merged_data.to_csv('merged_data/final_data.csv')\n",
        "print(len(merged_data))"
      ],
      "execution_count": 19,
      "outputs": [
        {
          "output_type": "stream",
          "text": [
            "3598\n"
          ],
          "name": "stdout"
        }
      ]
    },
    {
      "cell_type": "code",
      "metadata": {
        "id": "ee4kz2v3Ife_",
        "colab_type": "code",
        "outputId": "cf615d55-f321-4167-ae3c-c781bb829ae8",
        "colab": {
          "base_uri": "https://localhost:8080/",
          "height": 305
        }
      },
      "source": [
        "start = 0\n",
        "end = 3200-5\n",
        "trained_data = merged_data.iloc[(start+5):end,[0,1,2,3,5]].copy() \n",
        "\n",
        "trained_data.loc[:,'t-1'] = merged_data.iloc[(start+4):(end-1),0].values\n",
        "trained_data.loc[:,'t-2'] = merged_data.iloc[(start+3):(end-2),0].values\n",
        "trained_data.loc[:,'t-3'] = merged_data.iloc[(start+2):(end-3),0].values\n",
        "trained_data.loc[:,'t-4'] = merged_data.iloc[(start+1):(end-4),0].values\n",
        "trained_data.loc[:,'t-5'] = merged_data.iloc[start:(end-5),0].values\n",
        "\n",
        "X = sm.add_constant(trained_data.iloc[:,1:])\n",
        "model = sm.OLS(merged_data.iloc[(start+5):(end),0].values, X).fit()\n",
        "print('Ret(t)')\n",
        "print(pd.read_html(model.summary().tables[1].as_html(),header=0,index_col=0)[0].loc[:,['coef','t','P>|t|']])\n",
        "print(pd.read_html(model.summary().tables[0].as_html())[0].iloc[[5],[0,1]])\n",
        "print(pd.read_html(model.summary().tables[0].as_html())[0].iloc[[1],[2,3]])"
      ],
      "execution_count": 20,
      "outputs": [
        {
          "output_type": "stream",
          "text": [
            "Ret(t)\n",
            "                        coef       t  P>|t|\n",
            "const                 0.0003   1.872  0.061\n",
            "EPU                  -0.0003  -0.960  0.337\n",
            "ADS                  -0.0003  -1.305  0.192\n",
            "VIX                  -0.1193 -61.137  0.000\n",
            "6month_dynamic_fears -0.0002  -0.276  0.782\n",
            "t-1                  -0.0129  -1.066  0.287\n",
            "t-2                  -0.0313  -2.587  0.010\n",
            "t-3                   0.0469   3.871  0.000\n",
            "t-4                  -0.0012  -0.101  0.920\n",
            "t-5                  -0.0271  -2.256  0.024\n",
            "                   0     1\n",
            "5  No. Observations:  3190\n",
            "                 2      3\n",
            "1  Adj. R-squared:  0.547\n"
          ],
          "name": "stdout"
        }
      ]
    },
    {
      "cell_type": "code",
      "metadata": {
        "id": "2B4p7HcdIffD",
        "colab_type": "code",
        "outputId": "b627394c-e3ae-48e0-f51e-35d0a93b358d",
        "colab": {
          "base_uri": "https://localhost:8080/",
          "height": 323
        }
      },
      "source": [
        "trained_data = merged_data.iloc[(start+5):end,[0,1,2,3,5]].copy() \n",
        "\n",
        "trained_data.loc[:,'t'] = merged_data.iloc[(start+5):end,0].values\n",
        "trained_data.loc[:,'t-1'] = merged_data.iloc[(start+4):(end-1),0].values\n",
        "trained_data.loc[:,'t-2'] = merged_data.iloc[(start+3):(end-2),0].values\n",
        "trained_data.loc[:,'t-3'] = merged_data.iloc[(start+2):(end-3),0].values\n",
        "trained_data.loc[:,'t-4'] = merged_data.iloc[(start+1):(end-4),0].values\n",
        "trained_data.loc[:,'t-5'] = merged_data.iloc[start:(end-5),0].values\n",
        "\n",
        "X = sm.add_constant(trained_data.iloc[:,1:])\n",
        "model = sm.OLS(merged_data.iloc[(start+6):(end+1),0].values, X).fit()\n",
        "\n",
        "print('Ret(t+1)')\n",
        "print(pd.read_html(model.summary().tables[1].as_html(),header=0,index_col=0)[0].loc[:,['coef','t','P>|t|']])\n",
        "print(pd.read_html(model.summary().tables[0].as_html())[0].iloc[[5],[0,1]])\n",
        "print(pd.read_html(model.summary().tables[0].as_html())[0].iloc[[1],[2,3]])"
      ],
      "execution_count": 21,
      "outputs": [
        {
          "output_type": "stream",
          "text": [
            "Ret(t+1)\n",
            "                         coef      t  P>|t|\n",
            "const                 0.00030  1.308  0.191\n",
            "EPU                  -0.00050 -1.338  0.181\n",
            "ADS                   0.00004  0.128  0.898\n",
            "VIX                  -0.00220 -0.513  0.608\n",
            "6month_dynamic_fears  0.00110  1.416  0.157\n",
            "t                    -0.09370 -3.582  0.000\n",
            "t-1                  -0.08500 -4.776  0.000\n",
            "t-2                   0.01280  0.718  0.473\n",
            "t-3                  -0.01570 -0.876  0.381\n",
            "t-4                  -0.04990 -2.810  0.005\n",
            "t-5                   0.00420  0.236  0.814\n",
            "                   0     1\n",
            "5  No. Observations:  3190\n",
            "                 2      3\n",
            "1  Adj. R-squared:  0.015\n"
          ],
          "name": "stdout"
        }
      ]
    },
    {
      "cell_type": "code",
      "metadata": {
        "id": "eiBMVFOfIffG",
        "colab_type": "code",
        "outputId": "89699d75-3b0a-4cb2-b7ba-636ad3343a08",
        "colab": {
          "base_uri": "https://localhost:8080/",
          "height": 323
        }
      },
      "source": [
        "trained_data = merged_data.iloc[(start+5):end,[0,1,2,3,5]].copy() \n",
        "trained_data.loc[:,'t'] = merged_data.iloc[(start+5):end,0].values\n",
        "trained_data.loc[:,'t-1'] = merged_data.iloc[(start+4):(end-1),0].values\n",
        "trained_data.loc[:,'t-2'] = merged_data.iloc[(start+3):(end-2),0].values\n",
        "trained_data.loc[:,'t-3'] = merged_data.iloc[(start+2):(end-3),0].values\n",
        "trained_data.loc[:,'t-4'] = merged_data.iloc[(start+1):(end-4),0].values\n",
        "trained_data.loc[:,'t-5'] = merged_data.iloc[start:(end-5),0].values\n",
        "\n",
        "X = sm.add_constant(trained_data.iloc[:,1:])\n",
        "model = sm.OLS(merged_data.iloc[(start+7):(end+2),0].values, X).fit()\n",
        "\n",
        "print('Ret(t+2)')\n",
        "print(pd.read_html(model.summary().tables[1].as_html(),header=0,index_col=0)[0].loc[:,['coef','t','P>|t|']])\n",
        "print(pd.read_html(model.summary().tables[0].as_html())[0].iloc[[5],[0,1]])\n",
        "print(pd.read_html(model.summary().tables[0].as_html())[0].iloc[[1],[2,3]])"
      ],
      "execution_count": 22,
      "outputs": [
        {
          "output_type": "stream",
          "text": [
            "Ret(t+2)\n",
            "                        coef      t  P>|t|\n",
            "const                 0.0003  1.599  0.110\n",
            "EPU                   0.0007  1.823  0.068\n",
            "ADS                   0.0003  0.913  0.361\n",
            "VIX                  -0.0091 -2.147  0.032\n",
            "6month_dynamic_fears -0.0009 -1.063  0.288\n",
            "t                    -0.1197 -4.564  0.000\n",
            "t-1                   0.0232  1.300  0.194\n",
            "t-2                  -0.0172 -0.963  0.335\n",
            "t-3                  -0.0479 -2.671  0.008\n",
            "t-4                   0.0079  0.445  0.656\n",
            "t-5                  -0.0161 -0.906  0.365\n",
            "                   0     1\n",
            "5  No. Observations:  3190\n",
            "                 2     3\n",
            "1  Adj. R-squared:  0.01\n"
          ],
          "name": "stdout"
        }
      ]
    },
    {
      "cell_type": "code",
      "metadata": {
        "id": "9VtGR4zdIffJ",
        "colab_type": "code",
        "outputId": "8130d1d1-dd77-47c8-b995-89fdfbfc1a40",
        "colab": {
          "base_uri": "https://localhost:8080/",
          "height": 323
        }
      },
      "source": [
        "trained_data = merged_data.iloc[(start+5):end,[0,1,2,3,5]].copy() \n",
        "trained_data.loc[:,'t'] = merged_data.iloc[(start+5):end,0].values\n",
        "trained_data.loc[:,'t-1'] = merged_data.iloc[(start+4):(end-1),0].values\n",
        "trained_data.loc[:,'t-2'] = merged_data.iloc[(start+3):(end-2),0].values\n",
        "trained_data.loc[:,'t-3'] = merged_data.iloc[(start+2):(end-3),0].values\n",
        "trained_data.loc[:,'t-4'] = merged_data.iloc[(start+1):(end-4),0].values\n",
        "trained_data.loc[:,'t-5'] = merged_data.iloc[start:(end-5),0].values\n",
        "\n",
        "X = sm.add_constant(trained_data.iloc[:,1:])\n",
        "model = sm.OLS(merged_data.iloc[(start+8):(end+3),0].values, X).fit()\n",
        "\n",
        "print('Ret(t+3)')\n",
        "print(pd.read_html(model.summary().tables[1].as_html(),header=0,index_col=0)[0].loc[:,['coef','t','P>|t|']])\n",
        "print(pd.read_html(model.summary().tables[0].as_html())[0].iloc[[5],[0,1]])\n",
        "print(pd.read_html(model.summary().tables[0].as_html())[0].iloc[[1],[2,3]])"
      ],
      "execution_count": 23,
      "outputs": [
        {
          "output_type": "stream",
          "text": [
            "Ret(t+3)\n",
            "                          coef      t  P>|t|\n",
            "const                 0.000300  1.235  0.217\n",
            "EPU                   0.000300  0.695  0.487\n",
            "ADS                   0.000074  0.237  0.813\n",
            "VIX                   0.002400  0.552  0.581\n",
            "6month_dynamic_fears  0.000800  0.925  0.355\n",
            "t                     0.038800  1.472  0.141\n",
            "t-1                  -0.012200 -0.681  0.496\n",
            "t-2                  -0.051100 -2.847  0.004\n",
            "t-3                   0.009700  0.536  0.592\n",
            "t-4                  -0.010500 -0.585  0.559\n",
            "t-5                   0.017100  0.958  0.338\n",
            "                   0     1\n",
            "5  No. Observations:  3190\n",
            "                 2      3\n",
            "1  Adj. R-squared:  0.002\n"
          ],
          "name": "stdout"
        }
      ]
    },
    {
      "cell_type": "markdown",
      "metadata": {
        "id": "xRAahkz8Z1Gr",
        "colab_type": "text"
      },
      "source": [
        "#IWM"
      ]
    },
    {
      "cell_type": "code",
      "metadata": {
        "id": "cLGJQVjVduWE",
        "colab_type": "code",
        "colab": {
          "base_uri": "https://localhost:8080/",
          "height": 35
        },
        "outputId": "a1de5061-8852-4295-f73f-b6861e91419b"
      },
      "source": [
        "merged_data= IWM.join(EPU,how='inner')\n",
        "merged_data= merged_data.join(ADS,how='inner')\n",
        "merged_data= merged_data.join(VIX,how='inner')\n",
        "merged_data= merged_data.join(return_ratio.fears_index,how='inner')\n",
        "merged_data= merged_data.join(Fears_index_IWB,how='inner').rename(columns={'fears_index':'static_fears','FEARS':'6month_dynamic_fears'})\n",
        "merged_data.head()\n",
        "merged_data.to_csv('merged_data/final_data.csv')\n",
        "print(len(merged_data))"
      ],
      "execution_count": 24,
      "outputs": [
        {
          "output_type": "stream",
          "text": [
            "3598\n"
          ],
          "name": "stdout"
        }
      ]
    },
    {
      "cell_type": "code",
      "metadata": {
        "id": "4IRxNLl7ducC",
        "colab_type": "code",
        "colab": {
          "base_uri": "https://localhost:8080/",
          "height": 305
        },
        "outputId": "af577ffa-084e-4851-f142-3d573dbf9fa0"
      },
      "source": [
        "start = 0\n",
        "end = 3200-5\n",
        "trained_data = merged_data.iloc[(start+5):end,[0,1,2,3,5]].copy() \n",
        "\n",
        "trained_data.loc[:,'t-1'] = merged_data.iloc[(start+4):(end-1),0].values\n",
        "trained_data.loc[:,'t-2'] = merged_data.iloc[(start+3):(end-2),0].values\n",
        "trained_data.loc[:,'t-3'] = merged_data.iloc[(start+2):(end-3),0].values\n",
        "trained_data.loc[:,'t-4'] = merged_data.iloc[(start+1):(end-4),0].values\n",
        "trained_data.loc[:,'t-5'] = merged_data.iloc[start:(end-5),0].values\n",
        "\n",
        "X = sm.add_constant(trained_data.iloc[:,1:])\n",
        "model = sm.OLS(merged_data.iloc[(start+5):(end),0].values, X).fit()\n",
        "print('Ret(t)')\n",
        "print(pd.read_html(model.summary().tables[1].as_html(),header=0,index_col=0)[0].loc[:,['coef','t','P>|t|']])\n",
        "print(pd.read_html(model.summary().tables[0].as_html())[0].iloc[[5],[0,1]])\n",
        "print(pd.read_html(model.summary().tables[0].as_html())[0].iloc[[1],[2,3]])"
      ],
      "execution_count": 25,
      "outputs": [
        {
          "output_type": "stream",
          "text": [
            "Ret(t)\n",
            "                          coef       t  P>|t|\n",
            "const                 0.000300   1.585  0.113\n",
            "EPU                   0.000052   0.140  0.889\n",
            "ADS                  -0.000300  -1.060  0.289\n",
            "VIX                  -0.142500 -54.188  0.000\n",
            "6month_dynamic_fears -0.000600  -0.871  0.384\n",
            "t-1                  -0.012800  -0.999  0.318\n",
            "t-2                   0.014200   1.110  0.267\n",
            "t-3                   0.026900   2.102  0.036\n",
            "t-4                  -0.019900  -1.558  0.119\n",
            "t-5                  -0.027500  -2.152  0.031\n",
            "                   0     1\n",
            "5  No. Observations:  3190\n",
            "                 2      3\n",
            "1  Adj. R-squared:  0.485\n"
          ],
          "name": "stdout"
        }
      ]
    },
    {
      "cell_type": "code",
      "metadata": {
        "id": "MMXDP2_Ydxo0",
        "colab_type": "code",
        "colab": {
          "base_uri": "https://localhost:8080/",
          "height": 323
        },
        "outputId": "d5d47fc0-52a8-4c0f-ea30-b157996bf45e"
      },
      "source": [
        "trained_data = merged_data.iloc[(start+5):end,[0,1,2,3,5]].copy() \n",
        "\n",
        "trained_data.loc[:,'t'] = merged_data.iloc[(start+5):end,0].values\n",
        "trained_data.loc[:,'t-1'] = merged_data.iloc[(start+4):(end-1),0].values\n",
        "trained_data.loc[:,'t-2'] = merged_data.iloc[(start+3):(end-2),0].values\n",
        "trained_data.loc[:,'t-3'] = merged_data.iloc[(start+2):(end-3),0].values\n",
        "trained_data.loc[:,'t-4'] = merged_data.iloc[(start+1):(end-4),0].values\n",
        "trained_data.loc[:,'t-5'] = merged_data.iloc[start:(end-5),0].values\n",
        "\n",
        "X = sm.add_constant(trained_data.iloc[:,1:])\n",
        "model = sm.OLS(merged_data.iloc[(start+6):(end+1),0].values, X).fit()\n",
        "\n",
        "print('Ret(t+1)')\n",
        "print(pd.read_html(model.summary().tables[1].as_html(),header=0,index_col=0)[0].loc[:,['coef','t','P>|t|']])\n",
        "print(pd.read_html(model.summary().tables[0].as_html())[0].iloc[[5],[0,1]])\n",
        "print(pd.read_html(model.summary().tables[0].as_html())[0].iloc[[1],[2,3]])"
      ],
      "execution_count": 26,
      "outputs": [
        {
          "output_type": "stream",
          "text": [
            "Ret(t+1)\n",
            "                        coef      t  P>|t|\n",
            "const                 0.0003  1.054  0.292\n",
            "EPU                  -0.0005 -0.914  0.361\n",
            "ADS                   0.0002  0.413  0.680\n",
            "VIX                  -0.0034 -0.680  0.497\n",
            "6month_dynamic_fears  0.0013  1.255  0.210\n",
            "t                    -0.0858 -3.488  0.000\n",
            "t-1                  -0.0242 -1.359  0.174\n",
            "t-2                   0.0018  0.099  0.921\n",
            "t-3                  -0.0354 -1.992  0.046\n",
            "t-4                  -0.0570 -3.214  0.001\n",
            "t-5                   0.0123  0.695  0.487\n",
            "                   0     1\n",
            "5  No. Observations:  3190\n",
            "                 2      3\n",
            "1  Adj. R-squared:  0.008\n"
          ],
          "name": "stdout"
        }
      ]
    },
    {
      "cell_type": "code",
      "metadata": {
        "id": "a5bb00hidxtE",
        "colab_type": "code",
        "colab": {
          "base_uri": "https://localhost:8080/",
          "height": 323
        },
        "outputId": "3320a584-fd22-424c-9c25-92bc691e3688"
      },
      "source": [
        "trained_data = merged_data.iloc[(start+5):end,[0,1,2,3,5]].copy() \n",
        "trained_data.loc[:,'t'] = merged_data.iloc[(start+5):end,0].values\n",
        "trained_data.loc[:,'t-1'] = merged_data.iloc[(start+4):(end-1),0].values\n",
        "trained_data.loc[:,'t-2'] = merged_data.iloc[(start+3):(end-2),0].values\n",
        "trained_data.loc[:,'t-3'] = merged_data.iloc[(start+2):(end-3),0].values\n",
        "trained_data.loc[:,'t-4'] = merged_data.iloc[(start+1):(end-4),0].values\n",
        "trained_data.loc[:,'t-5'] = merged_data.iloc[start:(end-5),0].values\n",
        "\n",
        "X = sm.add_constant(trained_data.iloc[:,1:])\n",
        "model = sm.OLS(merged_data.iloc[(start+7):(end+2),0].values, X).fit()\n",
        "\n",
        "print('Ret(t+2)')\n",
        "print(pd.read_html(model.summary().tables[1].as_html(),header=0,index_col=0)[0].loc[:,['coef','t','P>|t|']])\n",
        "print(pd.read_html(model.summary().tables[0].as_html())[0].iloc[[5],[0,1]])\n",
        "print(pd.read_html(model.summary().tables[0].as_html())[0].iloc[[1],[2,3]])"
      ],
      "execution_count": 27,
      "outputs": [
        {
          "output_type": "stream",
          "text": [
            "Ret(t+2)\n",
            "                        coef      t  P>|t|\n",
            "const                 0.0003  1.288  0.198\n",
            "EPU                   0.0010  1.874  0.061\n",
            "ADS                   0.0005  1.352  0.176\n",
            "VIX                   0.0018  0.346  0.730\n",
            "6month_dynamic_fears -0.0011 -1.084  0.278\n",
            "t                    -0.0132 -0.536  0.592\n",
            "t-1                   0.0048  0.268  0.789\n",
            "t-2                  -0.0359 -2.017  0.044\n",
            "t-3                  -0.0554 -3.108  0.002\n",
            "t-4                   0.0162  0.911  0.363\n",
            "t-5                  -0.0057 -0.321  0.748\n",
            "                   0     1\n",
            "5  No. Observations:  3190\n",
            "                 2      3\n",
            "1  Adj. R-squared:  0.004\n"
          ],
          "name": "stdout"
        }
      ]
    },
    {
      "cell_type": "code",
      "metadata": {
        "id": "Fsa1nnS9dxxx",
        "colab_type": "code",
        "colab": {
          "base_uri": "https://localhost:8080/",
          "height": 323
        },
        "outputId": "da73778a-c44d-41e9-f292-54fcb7857535"
      },
      "source": [
        "trained_data = merged_data.iloc[(start+5):end,[0,1,2,3,5]].copy() \n",
        "trained_data.loc[:,'t'] = merged_data.iloc[(start+5):end,0].values\n",
        "trained_data.loc[:,'t-1'] = merged_data.iloc[(start+4):(end-1),0].values\n",
        "trained_data.loc[:,'t-2'] = merged_data.iloc[(start+3):(end-2),0].values\n",
        "trained_data.loc[:,'t-3'] = merged_data.iloc[(start+2):(end-3),0].values\n",
        "trained_data.loc[:,'t-4'] = merged_data.iloc[(start+1):(end-4),0].values\n",
        "trained_data.loc[:,'t-5'] = merged_data.iloc[start:(end-5),0].values\n",
        "\n",
        "X = sm.add_constant(trained_data.iloc[:,1:])\n",
        "model = sm.OLS(merged_data.iloc[(start+8):(end+3),0].values, X).fit()\n",
        "\n",
        "print('Ret(t+3)')\n",
        "print(pd.read_html(model.summary().tables[1].as_html(),header=0,index_col=0)[0].loc[:,['coef','t','P>|t|']])\n",
        "print(pd.read_html(model.summary().tables[0].as_html())[0].iloc[[5],[0,1]])\n",
        "print(pd.read_html(model.summary().tables[0].as_html())[0].iloc[[1],[2,3]])"
      ],
      "execution_count": 28,
      "outputs": [
        {
          "output_type": "stream",
          "text": [
            "Ret(t+3)\n",
            "                          coef      t  P>|t|\n",
            "const                 0.000300  1.085  0.278\n",
            "EPU                   0.000100  0.202  0.840\n",
            "ADS                   0.000100  0.381  0.703\n",
            "VIX                  -0.004500 -0.877  0.381\n",
            "6month_dynamic_fears  0.000041  0.040  0.968\n",
            "t                    -0.009200 -0.374  0.709\n",
            "t-1                  -0.035700 -2.004  0.045\n",
            "t-2                  -0.053300 -2.987  0.003\n",
            "t-3                   0.017700  0.993  0.321\n",
            "t-4                  -0.003900 -0.218  0.827\n",
            "t-5                   0.009900  0.559  0.576\n",
            "                   0     1\n",
            "5  No. Observations:  3190\n",
            "                 2      3\n",
            "1  Adj. R-squared:  0.002\n"
          ],
          "name": "stdout"
        }
      ]
    },
    {
      "cell_type": "markdown",
      "metadata": {
        "id": "dgIc85oAdrNf",
        "colab_type": "text"
      },
      "source": [
        "#IWB"
      ]
    },
    {
      "cell_type": "code",
      "metadata": {
        "id": "LdPz8KmXZ3w6",
        "colab_type": "code",
        "outputId": "177715c5-2a3f-4be1-f89b-6f7e3d57ca70",
        "colab": {
          "base_uri": "https://localhost:8080/",
          "height": 35
        }
      },
      "source": [
        "merged_data= IWB.join(EPU,how='inner')\n",
        "merged_data= merged_data.join(ADS,how='inner')\n",
        "merged_data= merged_data.join(VIX,how='inner')\n",
        "merged_data= merged_data.join(return_ratio.fears_index,how='inner')\n",
        "merged_data= merged_data.join(Fears_index_IWB,how='inner').rename(columns={'fears_index':'static_fears','FEARS':'6month_dynamic_fears'})\n",
        "merged_data.head()\n",
        "merged_data.to_csv('merged_data/final_data.csv')\n",
        "print(len(merged_data))"
      ],
      "execution_count": 29,
      "outputs": [
        {
          "output_type": "stream",
          "text": [
            "3598\n"
          ],
          "name": "stdout"
        }
      ]
    },
    {
      "cell_type": "code",
      "metadata": {
        "id": "O0OMKN6_Z9sC",
        "colab_type": "code",
        "outputId": "9de0c82b-1915-47b9-b7ec-8631156610ca",
        "colab": {
          "base_uri": "https://localhost:8080/",
          "height": 305
        }
      },
      "source": [
        "start = 0\n",
        "end = 3200-5\n",
        "trained_data = merged_data.iloc[(start+5):end,[0,1,2,3,5]].copy() \n",
        "\n",
        "trained_data.loc[:,'t-1'] = merged_data.iloc[(start+4):(end-1),0].values\n",
        "trained_data.loc[:,'t-2'] = merged_data.iloc[(start+3):(end-2),0].values\n",
        "trained_data.loc[:,'t-3'] = merged_data.iloc[(start+2):(end-3),0].values\n",
        "trained_data.loc[:,'t-4'] = merged_data.iloc[(start+1):(end-4),0].values\n",
        "trained_data.loc[:,'t-5'] = merged_data.iloc[start:(end-5),0].values\n",
        "\n",
        "X = sm.add_constant(trained_data.iloc[:,1:])\n",
        "model = sm.OLS(merged_data.iloc[(start+5):(end),0].values, X).fit()\n",
        "print('Ret(t)')\n",
        "print(pd.read_html(model.summary().tables[1].as_html(),header=0,index_col=0)[0].loc[:,['coef','t','P>|t|']])\n",
        "print(pd.read_html(model.summary().tables[0].as_html())[0].iloc[[5],[0,1]])\n",
        "print(pd.read_html(model.summary().tables[0].as_html())[0].iloc[[1],[2,3]])"
      ],
      "execution_count": 30,
      "outputs": [
        {
          "output_type": "stream",
          "text": [
            "Ret(t)\n",
            "                        coef       t  P>|t|\n",
            "const                 0.0003   1.946  0.052\n",
            "EPU                  -0.0002  -0.747  0.455\n",
            "ADS                  -0.0003  -1.314  0.189\n",
            "VIX                  -0.1187 -62.029  0.000\n",
            "6month_dynamic_fears -0.0003  -0.490  0.624\n",
            "t-1                  -0.0073  -0.612  0.541\n",
            "t-2                  -0.0118  -0.985  0.325\n",
            "t-3                   0.0543   4.535  0.000\n",
            "t-4                  -0.0126  -1.058  0.290\n",
            "t-5                  -0.0212  -1.778  0.075\n",
            "                   0     1\n",
            "5  No. Observations:  3190\n",
            "                 2      3\n",
            "1  Adj. R-squared:  0.553\n"
          ],
          "name": "stdout"
        }
      ]
    },
    {
      "cell_type": "code",
      "metadata": {
        "id": "QrHz96UUZ-fu",
        "colab_type": "code",
        "outputId": "c18ae22e-1e2d-456d-d62d-e9da1387f90a",
        "colab": {
          "base_uri": "https://localhost:8080/",
          "height": 323
        }
      },
      "source": [
        "trained_data = merged_data.iloc[(start+5):end,[0,1,2,3,5]].copy() \n",
        "\n",
        "trained_data.loc[:,'t'] = merged_data.iloc[(start+5):end,0].values\n",
        "trained_data.loc[:,'t-1'] = merged_data.iloc[(start+4):(end-1),0].values\n",
        "trained_data.loc[:,'t-2'] = merged_data.iloc[(start+3):(end-2),0].values\n",
        "trained_data.loc[:,'t-3'] = merged_data.iloc[(start+2):(end-3),0].values\n",
        "trained_data.loc[:,'t-4'] = merged_data.iloc[(start+1):(end-4),0].values\n",
        "trained_data.loc[:,'t-5'] = merged_data.iloc[start:(end-5),0].values\n",
        "\n",
        "X = sm.add_constant(trained_data.iloc[:,1:])\n",
        "model = sm.OLS(merged_data.iloc[(start+6):(end+1),0].values, X).fit()\n",
        "\n",
        "print('Ret(t+1)')\n",
        "print(pd.read_html(model.summary().tables[1].as_html(),header=0,index_col=0)[0].loc[:,['coef','t','P>|t|']])\n",
        "print(pd.read_html(model.summary().tables[0].as_html())[0].iloc[[5],[0,1]])\n",
        "print(pd.read_html(model.summary().tables[0].as_html())[0].iloc[[1],[2,3]])"
      ],
      "execution_count": 31,
      "outputs": [
        {
          "output_type": "stream",
          "text": [
            "Ret(t+1)\n",
            "                          coef      t  P>|t|\n",
            "const                 0.000300  1.375  0.169\n",
            "EPU                  -0.000400 -1.019  0.308\n",
            "ADS                   0.000051  0.168  0.867\n",
            "VIX                  -0.003000 -0.701  0.483\n",
            "6month_dynamic_fears  0.000900  1.175  0.240\n",
            "t                    -0.089200 -3.381  0.001\n",
            "t-1                  -0.060700 -3.411  0.001\n",
            "t-2                   0.023700  1.332  0.183\n",
            "t-3                  -0.027300 -1.528  0.127\n",
            "t-4                  -0.048100 -2.710  0.007\n",
            "t-5                  -0.003300 -0.184  0.854\n",
            "                   0     1\n",
            "5  No. Observations:  3190\n",
            "                 2      3\n",
            "1  Adj. R-squared:  0.011\n"
          ],
          "name": "stdout"
        }
      ]
    },
    {
      "cell_type": "code",
      "metadata": {
        "id": "zJU5eDb5aEs7",
        "colab_type": "code",
        "outputId": "1a8ce2ef-bfe1-48f4-eb44-41e84f568828",
        "colab": {
          "base_uri": "https://localhost:8080/",
          "height": 323
        }
      },
      "source": [
        "trained_data = merged_data.iloc[(start+5):end,[0,1,2,3,5]].copy() \n",
        "trained_data.loc[:,'t'] = merged_data.iloc[(start+5):end,0].values\n",
        "trained_data.loc[:,'t-1'] = merged_data.iloc[(start+4):(end-1),0].values\n",
        "trained_data.loc[:,'t-2'] = merged_data.iloc[(start+3):(end-2),0].values\n",
        "trained_data.loc[:,'t-3'] = merged_data.iloc[(start+2):(end-3),0].values\n",
        "trained_data.loc[:,'t-4'] = merged_data.iloc[(start+1):(end-4),0].values\n",
        "trained_data.loc[:,'t-5'] = merged_data.iloc[start:(end-5),0].values\n",
        "\n",
        "X = sm.add_constant(trained_data.iloc[:,1:])\n",
        "model = sm.OLS(merged_data.iloc[(start+7):(end+2),0].values, X).fit()\n",
        "\n",
        "print('Ret(t+2)')\n",
        "print(pd.read_html(model.summary().tables[1].as_html(),header=0,index_col=0)[0].loc[:,['coef','t','P>|t|']])\n",
        "print(pd.read_html(model.summary().tables[0].as_html())[0].iloc[[5],[0,1]])\n",
        "print(pd.read_html(model.summary().tables[0].as_html())[0].iloc[[1],[2,3]])"
      ],
      "execution_count": 32,
      "outputs": [
        {
          "output_type": "stream",
          "text": [
            "Ret(t+2)\n",
            "                        coef      t  P>|t|\n",
            "const                 0.0003  1.624  0.104\n",
            "EPU                   0.0007  1.823  0.068\n",
            "ADS                   0.0003  0.990  0.322\n",
            "VIX                  -0.0051 -1.212  0.225\n",
            "6month_dynamic_fears -0.0009 -1.131  0.258\n",
            "t                    -0.0795 -3.007  0.003\n",
            "t-1                   0.0306  1.718  0.086\n",
            "t-2                  -0.0291 -1.629  0.103\n",
            "t-3                  -0.0460 -2.567  0.010\n",
            "t-4                  -0.0005 -0.027  0.979\n",
            "t-5                  -0.0142 -0.798  0.425\n",
            "                   0     1\n",
            "5  No. Observations:  3190\n",
            "                 2      3\n",
            "1  Adj. R-squared:  0.007\n"
          ],
          "name": "stdout"
        }
      ]
    },
    {
      "cell_type": "code",
      "metadata": {
        "id": "xC6IT7FFaJlf",
        "colab_type": "code",
        "outputId": "f738aa7f-3715-44b9-d927-f448deadeca6",
        "colab": {
          "base_uri": "https://localhost:8080/",
          "height": 323
        }
      },
      "source": [
        "trained_data = merged_data.iloc[(start+5):end,[0,1,2,3,5]].copy() \n",
        "trained_data.loc[:,'t'] = merged_data.iloc[(start+5):end,0].values\n",
        "trained_data.loc[:,'t-1'] = merged_data.iloc[(start+4):(end-1),0].values\n",
        "trained_data.loc[:,'t-2'] = merged_data.iloc[(start+3):(end-2),0].values\n",
        "trained_data.loc[:,'t-3'] = merged_data.iloc[(start+2):(end-3),0].values\n",
        "trained_data.loc[:,'t-4'] = merged_data.iloc[(start+1):(end-4),0].values\n",
        "trained_data.loc[:,'t-5'] = merged_data.iloc[start:(end-5),0].values\n",
        "\n",
        "X = sm.add_constant(trained_data.iloc[:,1:])\n",
        "model = sm.OLS(merged_data.iloc[(start+8):(end+3),0].values, X).fit()\n",
        "\n",
        "print('Ret(t+3)')\n",
        "print(pd.read_html(model.summary().tables[1].as_html(),header=0,index_col=0)[0].loc[:,['coef','t','P>|t|']])\n",
        "print(pd.read_html(model.summary().tables[0].as_html())[0].iloc[[5],[0,1]])\n",
        "print(pd.read_html(model.summary().tables[0].as_html())[0].iloc[[1],[2,3]])"
      ],
      "execution_count": 33,
      "outputs": [
        {
          "output_type": "stream",
          "text": [
            "Ret(t+3)\n",
            "                        coef      t  P>|t|\n",
            "const                 0.0003  1.305  0.192\n",
            "EPU                   0.0002  0.574  0.566\n",
            "ADS                   0.0001  0.346  0.729\n",
            "VIX                   0.0034  0.793  0.428\n",
            "6month_dynamic_fears  0.0004  0.510  0.610\n",
            "t                     0.0489  1.846  0.065\n",
            "t-1                  -0.0279 -1.560  0.119\n",
            "t-2                  -0.0487 -2.721  0.007\n",
            "t-3                   0.0005  0.030  0.976\n",
            "t-4                  -0.0107 -0.598  0.550\n",
            "t-5                   0.0123  0.689  0.491\n",
            "                   0     1\n",
            "5  No. Observations:  3190\n",
            "                 2      3\n",
            "1  Adj. R-squared:  0.002\n"
          ],
          "name": "stdout"
        }
      ]
    }
  ]
}