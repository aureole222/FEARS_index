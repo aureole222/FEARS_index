{
 "cells": [
  {
   "cell_type": "code",
   "execution_count": 1,
   "metadata": {
    "colab": {
     "base_uri": "https://localhost:8080/",
     "height": 357
    },
    "colab_type": "code",
    "id": "PRqJWUMJRBJb",
    "outputId": "4e291043-ac78-4284-9b8f-7c66bf9b36d1"
   },
   "outputs": [
    {
     "name": "stdout",
     "output_type": "stream",
     "text": [
      "Collecting pytrends\n",
      "  Downloading https://files.pythonhosted.org/packages/74/a4/c1b1242be7d31650c6d9128a776c753db18f0e83290aaea0dd80dd31374b/pytrends-4.7.2.tar.gz\n",
      "Requirement already satisfied: requests in /usr/local/lib/python3.6/dist-packages (from pytrends) (2.21.0)\n",
      "Requirement already satisfied: pandas in /usr/local/lib/python3.6/dist-packages (from pytrends) (1.0.3)\n",
      "Requirement already satisfied: lxml in /usr/local/lib/python3.6/dist-packages (from pytrends) (4.2.6)\n",
      "Requirement already satisfied: certifi>=2017.4.17 in /usr/local/lib/python3.6/dist-packages (from requests->pytrends) (2019.11.28)\n",
      "Requirement already satisfied: chardet<3.1.0,>=3.0.2 in /usr/local/lib/python3.6/dist-packages (from requests->pytrends) (3.0.4)\n",
      "Requirement already satisfied: idna<2.9,>=2.5 in /usr/local/lib/python3.6/dist-packages (from requests->pytrends) (2.8)\n",
      "Requirement already satisfied: urllib3<1.25,>=1.21.1 in /usr/local/lib/python3.6/dist-packages (from requests->pytrends) (1.24.3)\n",
      "Requirement already satisfied: numpy>=1.13.3 in /usr/local/lib/python3.6/dist-packages (from pandas->pytrends) (1.18.2)\n",
      "Requirement already satisfied: python-dateutil>=2.6.1 in /usr/local/lib/python3.6/dist-packages (from pandas->pytrends) (2.8.1)\n",
      "Requirement already satisfied: pytz>=2017.2 in /usr/local/lib/python3.6/dist-packages (from pandas->pytrends) (2018.9)\n",
      "Requirement already satisfied: six>=1.5 in /usr/local/lib/python3.6/dist-packages (from python-dateutil>=2.6.1->pandas->pytrends) (1.12.0)\n",
      "Building wheels for collected packages: pytrends\n",
      "  Building wheel for pytrends (setup.py) ... \u001b[?25l\u001b[?25hdone\n",
      "  Created wheel for pytrends: filename=pytrends-4.7.2-cp36-none-any.whl size=14261 sha256=11e3167bf3735d71b2d2dc225fffda36cfd06ce7fb15cd622d28898e55558bd3\n",
      "  Stored in directory: /root/.cache/pip/wheels/64/ae/af/51d48fbbca0563036c6f80999b7ce3f097fa591fd165047baf\n",
      "Successfully built pytrends\n",
      "Installing collected packages: pytrends\n",
      "Successfully installed pytrends-4.7.2\n"
     ]
    }
   ],
   "source": [
    "!pip install pytrends"
   ]
  },
  {
   "cell_type": "code",
   "execution_count": 2,
   "metadata": {
    "colab": {
     "base_uri": "https://localhost:8080/",
     "height": 394
    },
    "colab_type": "code",
    "id": "-WMDu0Vp_RL4",
    "outputId": "85590321-7dbe-4e64-a349-3e2e73353afb"
   },
   "outputs": [
    {
     "name": "stdout",
     "output_type": "stream",
     "text": [
      "Collecting git+https://github.com/GeneralMills/pytrends\n",
      "  Cloning https://github.com/GeneralMills/pytrends to /tmp/pip-req-build-gar92s2r\n",
      "  Running command git clone -q https://github.com/GeneralMills/pytrends /tmp/pip-req-build-gar92s2r\n",
      "Requirement already satisfied, skipping upgrade: requests in /usr/local/lib/python3.6/dist-packages (from pytrends==4.7.2) (2.21.0)\n",
      "Requirement already satisfied, skipping upgrade: pandas>=0.25 in /usr/local/lib/python3.6/dist-packages (from pytrends==4.7.2) (1.0.3)\n",
      "Requirement already satisfied, skipping upgrade: lxml in /usr/local/lib/python3.6/dist-packages (from pytrends==4.7.2) (4.2.6)\n",
      "Requirement already satisfied, skipping upgrade: chardet<3.1.0,>=3.0.2 in /usr/local/lib/python3.6/dist-packages (from requests->pytrends==4.7.2) (3.0.4)\n",
      "Requirement already satisfied, skipping upgrade: idna<2.9,>=2.5 in /usr/local/lib/python3.6/dist-packages (from requests->pytrends==4.7.2) (2.8)\n",
      "Requirement already satisfied, skipping upgrade: certifi>=2017.4.17 in /usr/local/lib/python3.6/dist-packages (from requests->pytrends==4.7.2) (2019.11.28)\n",
      "Requirement already satisfied, skipping upgrade: urllib3<1.25,>=1.21.1 in /usr/local/lib/python3.6/dist-packages (from requests->pytrends==4.7.2) (1.24.3)\n",
      "Requirement already satisfied, skipping upgrade: python-dateutil>=2.6.1 in /usr/local/lib/python3.6/dist-packages (from pandas>=0.25->pytrends==4.7.2) (2.8.1)\n",
      "Requirement already satisfied, skipping upgrade: pytz>=2017.2 in /usr/local/lib/python3.6/dist-packages (from pandas>=0.25->pytrends==4.7.2) (2018.9)\n",
      "Requirement already satisfied, skipping upgrade: numpy>=1.13.3 in /usr/local/lib/python3.6/dist-packages (from pandas>=0.25->pytrends==4.7.2) (1.18.2)\n",
      "Requirement already satisfied, skipping upgrade: six>=1.5 in /usr/local/lib/python3.6/dist-packages (from python-dateutil>=2.6.1->pandas>=0.25->pytrends==4.7.2) (1.12.0)\n",
      "Building wheels for collected packages: pytrends\n",
      "  Building wheel for pytrends (setup.py) ... \u001b[?25l\u001b[?25hdone\n",
      "  Created wheel for pytrends: filename=pytrends-4.7.2-cp36-none-any.whl size=14820 sha256=2c11ae4a5aa600fc5499410593a1dbf374f99cc80093cf3e94e1848c62d1622f\n",
      "  Stored in directory: /tmp/pip-ephem-wheel-cache-jvpyj061/wheels/f6/49/f7/a4785ff2079f1cc793186a60d40863c5d4ee9863e2b315a0bd\n",
      "Successfully built pytrends\n",
      "Installing collected packages: pytrends\n",
      "Successfully installed pytrends-4.7.2\n"
     ]
    }
   ],
   "source": [
    "!pip install --upgrade --user git+https://github.com/GeneralMills/pytrends"
   ]
  },
  {
   "cell_type": "code",
   "execution_count": 3,
   "metadata": {
    "colab": {
     "base_uri": "https://localhost:8080/",
     "height": 309
    },
    "colab_type": "code",
    "id": "3eLS75hD3uRN",
    "outputId": "20964a86-ba86-497d-ef9d-3136932f65ed"
   },
   "outputs": [
    {
     "name": "stdout",
     "output_type": "stream",
     "text": [
      "Collecting pytrendsdaily\n",
      "  Downloading https://files.pythonhosted.org/packages/52/23/74025f57678fbbb5d9a59e07a74957a15480bad01aba98e048572be7955a/pytrendsdaily-1.0.0-py3-none-any.whl\n",
      "Requirement already satisfied: pandas>=0.23.0 in /usr/local/lib/python3.6/dist-packages (from pytrendsdaily) (1.0.3)\n",
      "Requirement already satisfied: pytrends>=4.4.0 in /root/.local/lib/python3.6/site-packages (from pytrendsdaily) (4.7.2)\n",
      "Requirement already satisfied: pytz>=2017.2 in /usr/local/lib/python3.6/dist-packages (from pandas>=0.23.0->pytrendsdaily) (2018.9)\n",
      "Requirement already satisfied: numpy>=1.13.3 in /usr/local/lib/python3.6/dist-packages (from pandas>=0.23.0->pytrendsdaily) (1.18.2)\n",
      "Requirement already satisfied: python-dateutil>=2.6.1 in /usr/local/lib/python3.6/dist-packages (from pandas>=0.23.0->pytrendsdaily) (2.8.1)\n",
      "Requirement already satisfied: requests in /usr/local/lib/python3.6/dist-packages (from pytrends>=4.4.0->pytrendsdaily) (2.21.0)\n",
      "Requirement already satisfied: lxml in /usr/local/lib/python3.6/dist-packages (from pytrends>=4.4.0->pytrendsdaily) (4.2.6)\n",
      "Requirement already satisfied: six>=1.5 in /usr/local/lib/python3.6/dist-packages (from python-dateutil>=2.6.1->pandas>=0.23.0->pytrendsdaily) (1.12.0)\n",
      "Requirement already satisfied: urllib3<1.25,>=1.21.1 in /usr/local/lib/python3.6/dist-packages (from requests->pytrends>=4.4.0->pytrendsdaily) (1.24.3)\n",
      "Requirement already satisfied: certifi>=2017.4.17 in /usr/local/lib/python3.6/dist-packages (from requests->pytrends>=4.4.0->pytrendsdaily) (2019.11.28)\n",
      "Requirement already satisfied: idna<2.9,>=2.5 in /usr/local/lib/python3.6/dist-packages (from requests->pytrends>=4.4.0->pytrendsdaily) (2.8)\n",
      "Requirement already satisfied: chardet<3.1.0,>=3.0.2 in /usr/local/lib/python3.6/dist-packages (from requests->pytrends>=4.4.0->pytrendsdaily) (3.0.4)\n",
      "Installing collected packages: pytrendsdaily\n",
      "Successfully installed pytrendsdaily-1.0.0\n"
     ]
    }
   ],
   "source": [
    "!pip install pytrendsdaily"
   ]
  },
  {
   "cell_type": "code",
   "execution_count": 0,
   "metadata": {
    "colab": {},
    "colab_type": "code",
    "id": "lqGlzpb5RX1l"
   },
   "outputs": [],
   "source": [
    "import pandas as pd                        \n",
    "from pytrends.request import TrendReq\n",
    "pytrend = TrendReq()\n",
    "from pytrends import dailydata\n",
    "from pytrendsdaily import getDailyData"
   ]
  },
  {
   "cell_type": "code",
   "execution_count": 5,
   "metadata": {
    "colab": {
     "base_uri": "https://localhost:8080/",
     "height": 71,
     "resources": {
      "http://localhost:8080/nbextensions/google.colab/files.js": {
       "data": "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",
       "headers": [
        [
         "content-type",
         "application/javascript"
        ]
       ],
       "ok": true,
       "status": 200,
       "status_text": ""
      }
     }
    },
    "colab_type": "code",
    "id": "GziQ-wxTs0r9",
    "outputId": "eeb3cc3c-9cdc-4d05-f2c5-92ac70bcad12"
   },
   "outputs": [
    {
     "data": {
      "text/html": [
       "\n",
       "     <input type=\"file\" id=\"files-b52b0511-9b02-4399-855c-b616f3ec8335\" name=\"files[]\" multiple disabled />\n",
       "     <output id=\"result-b52b0511-9b02-4399-855c-b616f3ec8335\">\n",
       "      Upload widget is only available when the cell has been executed in the\n",
       "      current browser session. Please rerun this cell to enable.\n",
       "      </output>\n",
       "      <script src=\"/nbextensions/google.colab/files.js\"></script> "
      ],
      "text/plain": [
       "<IPython.core.display.HTML object>"
      ]
     },
     "metadata": {
      "tags": []
     },
     "output_type": "display_data"
    },
    {
     "name": "stdout",
     "output_type": "stream",
     "text": [
      "Saving inquirerbasic.csv to inquirerbasic.csv\n"
     ]
    }
   ],
   "source": [
    "from google.colab import files\n",
    "uploaded = files.upload()"
   ]
  },
  {
   "cell_type": "code",
   "execution_count": 6,
   "metadata": {
    "colab": {
     "base_uri": "https://localhost:8080/",
     "height": 221
    },
    "colab_type": "code",
    "id": "hOC_DlUhtEhL",
    "outputId": "d1532dbf-67e1-4b55-b7a5-433c710bd043"
   },
   "outputs": [
    {
     "data": {
      "text/plain": [
       "0      ABUNDANCE\n",
       "1         ACCRUE\n",
       "2      ADVANTAGE\n",
       "3      AFFLUENCE\n",
       "4       AFFLUENT\n",
       "         ...    \n",
       "145      VAGRANT\n",
       "146     VALUABLE\n",
       "147      WARFARE\n",
       "148        WASTE\n",
       "149        WORTH\n",
       "Name: Entry, Length: 150, dtype: object"
      ]
     },
     "execution_count": 6,
     "metadata": {
      "tags": []
     },
     "output_type": "execute_result"
    }
   ],
   "source": [
    "import io\n",
    "df2 = pd.read_csv(io.BytesIO(uploaded['inquirerbasic.csv']))\n",
    "List = df2['Entry']\n",
    "List"
   ]
  },
  {
   "cell_type": "code",
   "execution_count": 0,
   "metadata": {
    "colab": {},
    "colab_type": "code",
    "id": "rYabhF6IgB3_"
   },
   "outputs": [],
   "source": [
    "l=[]\n",
    "count=[]\n",
    "n = int(len(List))"
   ]
  },
  {
   "cell_type": "code",
   "execution_count": 0,
   "metadata": {
    "colab": {},
    "colab_type": "code",
    "id": "ednGu52MUjHQ"
   },
   "outputs": [],
   "source": [
    "for i in range(n):\n",
    "  pytrend.build_payload(kw_list=[List[i]])\n",
    "  related_queries = pytrend.related_queries()\n",
    "  d1 = related_queries[List[i]]\n",
    "  d2 = d1['top']\n",
    "  d3 = d2['query']\n",
    "  d4 = d3.tolist()\n",
    "  n4 = len(d4)\n",
    "  if n4<10:\n",
    "    for j in range(n4):\n",
    "      l.append(d4[j])\n",
    "  else:\n",
    "    for j in range(10):\n",
    "      l.append(d4[j])"
   ]
  },
  {
   "cell_type": "code",
   "execution_count": 9,
   "metadata": {
    "colab": {
     "base_uri": "https://localhost:8080/",
     "height": 34
    },
    "colab_type": "code",
    "id": "doUb0VmA1ynw",
    "outputId": "22aa7b7f-26a0-4968-ba99-93001546b6b6"
   },
   "outputs": [
    {
     "data": {
      "text/plain": [
       "1473"
      ]
     },
     "execution_count": 9,
     "metadata": {
      "tags": []
     },
     "output_type": "execute_result"
    }
   ],
   "source": [
    "len(l)"
   ]
  },
  {
   "cell_type": "code",
   "execution_count": 10,
   "metadata": {
    "colab": {
     "base_uri": "https://localhost:8080/",
     "height": 34
    },
    "colab_type": "code",
    "id": "fsS3GyAtWPqb",
    "outputId": "213402d2-cfb9-4369-ec5e-2d8dfadf65c2"
   },
   "outputs": [
    {
     "data": {
      "text/plain": [
       "1446"
      ]
     },
     "execution_count": 10,
     "metadata": {
      "tags": []
     },
     "output_type": "execute_result"
    }
   ],
   "source": [
    "res = [] \n",
    "[res.append(x) for x in l if x not in res] \n",
    "len(res)"
   ]
  },
  {
   "cell_type": "code",
   "execution_count": 11,
   "metadata": {
    "colab": {
     "base_uri": "https://localhost:8080/",
     "height": 34
    },
    "colab_type": "code",
    "id": "jLMtiwB678Mr",
    "outputId": "15d736fb-6e2d-452f-f9a7-4fca49d60b3c"
   },
   "outputs": [
    {
     "name": "stdout",
     "output_type": "stream",
     "text": [
      "in abundance:2020-03-01 2020-03-31\n"
     ]
    }
   ],
   "source": [
    "data = dailydata.get_daily_data(res[1],2020,3,2020,3,wait_time=1)"
   ]
  },
  {
   "cell_type": "code",
   "execution_count": 12,
   "metadata": {
    "colab": {
     "base_uri": "https://localhost:8080/",
     "height": 34
    },
    "colab_type": "code",
    "id": "w_UdnwdZDFRO",
    "outputId": "ba35cdc7-28aa-4582-aebe-1f8a39b59237"
   },
   "outputs": [
    {
     "data": {
      "text/plain": [
       "1595"
      ]
     },
     "execution_count": 12,
     "metadata": {
      "tags": []
     },
     "output_type": "execute_result"
    }
   ],
   "source": [
    "sum(data[res[1]+'_unscaled'])"
   ]
  },
  {
   "cell_type": "code",
   "execution_count": 13,
   "metadata": {
    "colab": {
     "base_uri": "https://localhost:8080/",
     "height": 1000
    },
    "colab_type": "code",
    "id": "rI-0wmFPdcRf",
    "outputId": "3957b325-86cc-4fff-cf25-e78c8f8b4eb8"
   },
   "outputs": [
    {
     "name": "stdout",
     "output_type": "stream",
     "text": [
      "abundance of:2020-03-01 2020-03-31\n",
      "in abundance:2020-03-01 2020-03-31\n",
      "abundance meaning:2020-03-01 2020-03-31\n",
      "an abundance:2020-03-01 2020-03-31\n",
      "what is abundance:2020-03-01 2020-03-31\n",
      "abundance definition:2020-03-01 2020-03-31\n",
      "in abundance meaning:2020-03-01 2020-03-31\n",
      "relative abundance:2020-03-01 2020-03-31\n",
      "abundance of katherines:2020-03-01 2020-03-31\n",
      "life abundance:2020-03-01 2020-03-31\n",
      "accrue to:2020-03-01 2020-03-31\n",
      "accrue interest:2020-03-01 2020-03-31\n",
      "accrue meaning:2020-03-01 2020-03-31\n",
      "accrue definition:2020-03-01 2020-03-31\n",
      "accrue annual leave:2020-03-01 2020-03-31\n",
      "accrued:2020-03-01 2020-03-31\n",
      "what is accrue:2020-03-01 2020-03-31\n",
      "accrue holiday:2020-03-01 2020-03-31\n",
      "accrual:2020-03-01 2020-03-31\n",
      "accrue define:2020-03-01 2020-03-31\n",
      "the advantage:2020-03-01 2020-03-31\n",
      "advantage and disadvantage:2020-03-01 2020-03-31\n",
      "hp:2020-03-01 2020-03-31\n",
      "medicare advantage:2020-03-01 2020-03-31\n",
      "hp ink advantage:2020-03-01 2020-03-31\n",
      "hp deskjet:2020-03-01 2020-03-31\n",
      "hp deskjet ink advantage:2020-03-01 2020-03-31\n",
      "take advantage:2020-03-01 2020-03-31\n",
      "competitive advantage:2020-03-01 2020-03-31\n",
      "staples advantage:2020-03-01 2020-03-31\n",
      "affluence meaning:2020-03-01 2020-03-31\n",
      "disney affluence:2020-03-01 2020-03-31\n",
      "affluence disney:2020-03-01 2020-03-31\n",
      "disneyland affluence:2020-03-01 2020-03-31\n",
      "disneyland:2020-03-01 2020-03-31\n",
      "school of affluence:2020-03-01 2020-03-31\n",
      "what is affluence:2020-03-01 2020-03-31\n",
      "famine affluence and morality:2020-03-01 2020-03-31\n",
      "affluence define:2020-03-01 2020-03-31\n",
      "asterix:2020-03-01 2020-03-31\n",
      "affluent definition:2020-03-01 2020-03-31\n",
      "definition:2020-03-01 2020-03-31\n",
      "affluent society:2020-03-01 2020-03-31\n",
      "affluent danube:2020-03-01 2020-03-31\n",
      "what is affluent:2020-03-01 2020-03-31\n",
      "affluent du danube:2020-03-01 2020-03-31\n",
      "define affluent:2020-03-01 2020-03-31\n",
      "synonyme:2020-03-01 2020-03-31\n",
      "affluent synonym:2020-03-01 2020-03-31\n",
      "meaning of affluent:2020-03-01 2020-03-31\n",
      "stay afloat:2020-03-01 2020-03-31\n",
      "afloat meaning:2020-03-01 2020-03-31\n",
      "keep afloat:2020-03-01 2020-03-31\n",
      "arbory afloat:2020-03-01 2020-03-31\n",
      "afloat definition:2020-03-01 2020-03-31\n",
      "class afloat:2020-03-01 2020-03-31\n",
      "nsips afloat:2020-03-01 2020-03-31\n",
      "nsips:2020-03-01 2020-03-31\n",
      "staying afloat:2020-03-01 2020-03-31\n",
      "afloat mac:2020-03-01 2020-03-31\n",
      "baggage allowance:2020-03-01 2020-03-31\n",
      "tax allowance:2020-03-01 2020-03-31\n",
      "carers allowance:2020-03-01 2020-03-31\n",
      "personal allowance:2020-03-01 2020-03-31\n",
      "attendance allowance:2020-03-01 2020-03-31\n",
      "disability:2020-03-01 2020-03-31\n",
      "disability allowance:2020-03-01 2020-03-31\n",
      "attendance:2020-03-01 2020-03-31\n",
      "job seekers allowance:2020-03-01 2020-03-31\n",
      "car allowance:2020-03-01 2020-03-31\n",
      "aristocracy definition:2020-03-01 2020-03-31\n",
      "aristocracy meaning:2020-03-01 2020-03-31\n",
      "democracy:2020-03-01 2020-03-31\n",
      "oligarchy:2020-03-01 2020-03-31\n",
      "what is aristocracy:2020-03-01 2020-03-31\n",
      "monarchy:2020-03-01 2020-03-31\n",
      "government:2020-03-01 2020-03-31\n",
      "aristocracy government:2020-03-01 2020-03-31\n",
      "aristocrat:2020-03-01 2020-03-31\n",
      "the aristocrat:2020-03-01 2020-03-31\n",
      "aristocrat definition:2020-03-01 2020-03-31\n",
      "aristocrat meaning:2020-03-01 2020-03-31\n",
      "aristocracy:2020-03-01 2020-03-31\n",
      "aristocrat bags:2020-03-01 2020-03-31\n",
      "an aristocrat:2020-03-01 2020-03-31\n",
      "aristocrat restaurant:2020-03-01 2020-03-31\n",
      "aristocrat menu:2020-03-01 2020-03-31\n",
      "what is aristocrat:2020-03-01 2020-03-31\n",
      "aristocratic meaning:2020-03-01 2020-03-31\n",
      "aristocratic definition:2020-03-01 2020-03-31\n",
      "aristocratic names:2020-03-01 2020-03-31\n",
      "what is aristocratic:2020-03-01 2020-03-31\n",
      "aristocratic family:2020-03-01 2020-03-31\n",
      "meaning of aristocratic:2020-03-01 2020-03-31\n",
      "aristocratic government:2020-03-01 2020-03-31\n",
      "aristocratic meaning in hindi:2020-03-01 2020-03-31\n",
      "associate degree:2020-03-01 2020-03-31\n",
      "sales associate:2020-03-01 2020-03-31\n",
      "the associate:2020-03-01 2020-03-31\n",
      "associate with:2020-03-01 2020-03-31\n",
      "associate professor:2020-03-01 2020-03-31\n",
      "research associate:2020-03-01 2020-03-31\n",
      "associate login:2020-03-01 2020-03-31\n",
      "business associate:2020-03-01 2020-03-31\n",
      "associate kiosk:2020-03-01 2020-03-31\n",
      "associate manager:2020-03-01 2020-03-31\n",
      "backer board:2020-03-01 2020-03-31\n",
      "de backer:2020-03-01 2020-03-31\n",
      "tile backer:2020-03-01 2020-03-31\n",
      "tile backer board:2020-03-01 2020-03-31\n",
      "tile board:2020-03-01 2020-03-31\n",
      "backer rod:2020-03-01 2020-03-31\n",
      "baker:2020-03-01 2020-03-31\n",
      "cerveja:2020-03-01 2020-03-31\n",
      "cerveja backer:2020-03-01 2020-03-31\n",
      "hardie backer:2020-03-01 2020-03-31\n",
      "forward:2020-03-01 2020-03-31\n",
      "forward and backward:2020-03-01 2020-03-31\n",
      "backward compatibility:2020-03-01 2020-03-31\n",
      "backward class:2020-03-01 2020-03-31\n",
      "backward classes:2020-03-01 2020-03-31\n",
      "xbox backward:2020-03-01 2020-03-31\n",
      "backwards:2020-03-01 2020-03-31\n",
      "backward compatible:2020-03-01 2020-03-31\n",
      "xbox one backward:2020-03-01 2020-03-31\n",
      "xbox one:2020-03-01 2020-03-31\n",
      "economic backwardness:2020-03-01 2020-03-31\n",
      "backwardness meaning:2020-03-01 2020-03-31\n",
      "social backwardness:2020-03-01 2020-03-31\n",
      "economic backwardness in historical perspective:2020-03-01 2020-03-31\n",
      "scholastic backwardness:2020-03-01 2020-03-31\n",
      "backwardness synonym:2020-03-01 2020-03-31\n",
      "go bankrupt:2020-03-01 2020-03-31\n",
      "bankruptcy:2020-03-01 2020-03-31\n",
      "going bankrupt:2020-03-01 2020-03-31\n",
      "went bankrupt:2020-03-01 2020-03-31\n",
      "to go bankrupt:2020-03-01 2020-03-31\n",
      "what is bankrupt:2020-03-01 2020-03-31\n",
      "50 cent:2020-03-01 2020-03-31\n",
      "50 cent bankrupt:2020-03-01 2020-03-31\n",
      "bank bankrupt:2020-03-01 2020-03-31\n",
      "trump bankrupt:2020-03-01 2020-03-31\n",
      "file bankruptcy:2020-03-01 2020-03-31\n",
      "chapter 7 bankruptcy:2020-03-01 2020-03-31\n",
      "bankruptcy court:2020-03-01 2020-03-31\n",
      "chapter 7:2020-03-01 2020-03-31\n",
      "how to bankruptcy:2020-03-01 2020-03-31\n",
      "bankruptcy attorney:2020-03-01 2020-03-31\n",
      "filing bankruptcy:2020-03-01 2020-03-31\n",
      "after bankruptcy:2020-03-01 2020-03-31\n",
      "chapter 13:2020-03-01 2020-03-31\n",
      "chapter 13 bankruptcy:2020-03-01 2020-03-31\n",
      "bargain hunt:2020-03-01 2020-03-31\n",
      "bargain outlet:2020-03-01 2020-03-31\n",
      "home bargain:2020-03-01 2020-03-31\n",
      "bargain booze:2020-03-01 2020-03-31\n",
      "bargain store:2020-03-01 2020-03-31\n",
      "best bargain:2020-03-01 2020-03-31\n",
      "bargain shop:2020-03-01 2020-03-31\n",
      "bargain box:2020-03-01 2020-03-31\n",
      "plea bargain:2020-03-01 2020-03-31\n",
      "bargain barn:2020-03-01 2020-03-31\n",
      "the beggar:2020-03-01 2020-03-31\n",
      "beggar meaning:2020-03-01 2020-03-31\n",
      "blind beggar:2020-03-01 2020-03-31\n",
      "virtual beggar:2020-03-01 2020-03-31\n",
      "the blind beggar:2020-03-01 2020-03-31\n",
      "begger:2020-03-01 2020-03-31\n",
      "indian beggar:2020-03-01 2020-03-31\n",
      "beggar king:2020-03-01 2020-03-31\n",
      "beggars:2020-03-01 2020-03-31\n",
      "beggar in hindi:2020-03-01 2020-03-31\n",
      "the benefactor:2020-03-01 2020-03-31\n",
      "gta benefactor:2020-03-01 2020-03-31\n",
      "estado benefactor:2020-03-01 2020-03-31\n",
      "benefactor meaning:2020-03-01 2020-03-31\n",
      "gta 5:2020-03-01 2020-03-31\n",
      "gta 5 benefactor:2020-03-01 2020-03-31\n",
      "el benefactor:2020-03-01 2020-03-31\n",
      "benefactor serrano:2020-03-01 2020-03-31\n",
      "benefactor schafter:2020-03-01 2020-03-31\n",
      "the beneficiary:2020-03-01 2020-03-31\n",
      "beneficiary status:2020-03-01 2020-03-31\n",
      "beneficiary bank:2020-03-01 2020-03-31\n",
      "insurance beneficiary:2020-03-01 2020-03-31\n",
      "insurance:2020-03-01 2020-03-31\n",
      "what is beneficiary:2020-03-01 2020-03-31\n",
      "beneficiary meaning:2020-03-01 2020-03-31\n",
      "trust beneficiary:2020-03-01 2020-03-31\n",
      "beneficiary account:2020-03-01 2020-03-31\n",
      "add beneficiary:2020-03-01 2020-03-31\n",
      "child benefit:2020-03-01 2020-03-31\n",
      "benefits:2020-03-01 2020-03-31\n",
      "housing benefit:2020-03-01 2020-03-31\n",
      "benefit brow:2020-03-01 2020-03-31\n",
      "my benefit:2020-03-01 2020-03-31\n",
      "cost benefit:2020-03-01 2020-03-31\n",
      "child tax benefit:2020-03-01 2020-03-31\n",
      "benefit calculator:2020-03-01 2020-03-31\n",
      "security benefit:2020-03-01 2020-03-31\n",
      "benefit cosmetics:2020-03-01 2020-03-31\n",
      "benevolence meaning:2020-03-01 2020-03-31\n",
      "benevolence definition:2020-03-01 2020-03-31\n",
      "benevolent:2020-03-01 2020-03-31\n",
      "define benevolence:2020-03-01 2020-03-31\n",
      "what is benevolence:2020-03-01 2020-03-31\n",
      "her benevolence:2020-03-01 2020-03-31\n",
      "benevolence synonym:2020-03-01 2020-03-31\n",
      "meaning of benevolence:2020-03-01 2020-03-31\n",
      "definition of benevolence:2020-03-01 2020-03-31\n",
      "meaning benevolent:2020-03-01 2020-03-31\n",
      "meaning:2020-03-01 2020-03-31\n",
      "benevolent definition:2020-03-01 2020-03-31\n",
      "the benevolent:2020-03-01 2020-03-31\n",
      "benevolent fund:2020-03-01 2020-03-31\n",
      "benevolent society:2020-03-01 2020-03-31\n",
      "define benevolent:2020-03-01 2020-03-31\n",
      "benevolent association:2020-03-01 2020-03-31\n",
      "what is benevolent:2020-03-01 2020-03-31\n",
      "bequeath meaning:2020-03-01 2020-03-31\n",
      "bequeath definition:2020-03-01 2020-03-31\n",
      "to bequeath:2020-03-01 2020-03-31\n",
      "define bequeath:2020-03-01 2020-03-31\n",
      "will:2020-03-01 2020-03-31\n",
      "what is bequeath:2020-03-01 2020-03-31\n",
      "bequest:2020-03-01 2020-03-31\n",
      "bequeath synonym:2020-03-01 2020-03-31\n",
      "meaning of bequeath:2020-03-01 2020-03-31\n",
      "betroth meaning:2020-03-01 2020-03-31\n",
      "betroth definition:2020-03-01 2020-03-31\n",
      "define betroth:2020-03-01 2020-03-31\n",
      "betrothed:2020-03-01 2020-03-31\n",
      "ratify:2020-03-01 2020-03-31\n",
      "betrothal:2020-03-01 2020-03-31\n",
      "betrothal meaning:2020-03-01 2020-03-31\n",
      "betrothal definition:2020-03-01 2020-03-31\n",
      "betrothal ring:2020-03-01 2020-03-31\n",
      "what is betrothal:2020-03-01 2020-03-31\n",
      "engagement:2020-03-01 2020-03-31\n",
      "betrothal ceremony:2020-03-01 2020-03-31\n",
      "betrothal in tamil:2020-03-01 2020-03-31\n",
      "betrothal tamil meaning:2020-03-01 2020-03-31\n",
      "meaning of betrothal:2020-03-01 2020-03-31\n",
      "betrothal meaning in tamil:2020-03-01 2020-03-31\n",
      "blackmail mom:2020-03-01 2020-03-31\n",
      "blackmail video:2020-03-01 2020-03-31\n",
      "sister blackmail:2020-03-01 2020-03-31\n",
      "blackmail movie:2020-03-01 2020-03-31\n",
      "brother blackmail:2020-03-01 2020-03-31\n",
      "blackmail song:2020-03-01 2020-03-31\n",
      "black:2020-03-01 2020-03-31\n",
      "blackmail stories:2020-03-01 2020-03-31\n",
      "blackmail 2018:2020-03-01 2020-03-31\n",
      "blackmail illegal:2020-03-01 2020-03-31\n",
      "casino:2020-03-01 2020-03-31\n",
      "casino bonus:2020-03-01 2020-03-31\n",
      "no deposit bonus:2020-03-01 2020-03-31\n",
      "bonus code:2020-03-01 2020-03-31\n",
      "casino bonus no deposit:2020-03-01 2020-03-31\n",
      "casino deposit bonus:2020-03-01 2020-03-31\n",
      "ah bonus:2020-03-01 2020-03-31\n",
      "ah:2020-03-01 2020-03-31\n",
      "bonus card:2020-03-01 2020-03-31\n",
      "no deposit bonus codes:2020-03-01 2020-03-31\n",
      "boom beach:2020-03-01 2020-03-31\n",
      "the boom:2020-03-01 2020-03-31\n",
      "sonic boom:2020-03-01 2020-03-31\n",
      "sonic:2020-03-01 2020-03-31\n",
      "ue boom:2020-03-01 2020-03-31\n",
      "baby boom:2020-03-01 2020-03-31\n",
      "boom boom song:2020-03-01 2020-03-31\n",
      "boom boom boom song:2020-03-01 2020-03-31\n",
      "boom boom lyrics:2020-03-01 2020-03-31\n",
      "boom boom boom lyrics:2020-03-01 2020-03-31\n",
      "the breadwinner:2020-03-01 2020-03-31\n",
      "breadwinner meaning:2020-03-01 2020-03-31\n",
      "breadwinner movie:2020-03-01 2020-03-31\n",
      "the breadwinner movie:2020-03-01 2020-03-31\n",
      "breadwinner book:2020-03-01 2020-03-31\n",
      "the breadwinner book:2020-03-01 2020-03-31\n",
      "breadwinner definition:2020-03-01 2020-03-31\n",
      "what is breadwinner:2020-03-01 2020-03-31\n",
      "breadwinners:2020-03-01 2020-03-31\n",
      "parvana breadwinner:2020-03-01 2020-03-31\n",
      "corruption:2020-03-01 2020-03-31\n",
      "to bribe:2020-03-01 2020-03-31\n",
      "bribe meaning:2020-03-01 2020-03-31\n",
      "the bribe:2020-03-01 2020-03-31\n",
      "bribe money:2020-03-01 2020-03-31\n",
      "bribery:2020-03-01 2020-03-31\n",
      "bribe definition:2020-03-01 2020-03-31\n",
      "what is bribe:2020-03-01 2020-03-31\n",
      "bribe in hindi:2020-03-01 2020-03-31\n",
      "bribe hindi meaning:2020-03-01 2020-03-31\n",
      "broke girls:2020-03-01 2020-03-31\n",
      "broke up:2020-03-01 2020-03-31\n",
      "2 broke girls:2020-03-01 2020-03-31\n",
      "broke girl:2020-03-01 2020-03-31\n",
      "young dumb:2020-03-01 2020-03-31\n",
      "young dumb broke:2020-03-01 2020-03-31\n",
      "heart broke:2020-03-01 2020-03-31\n",
      "young dumb and broke:2020-03-01 2020-03-31\n",
      "two broke girls:2020-03-01 2020-03-31\n",
      "broke lyrics:2020-03-01 2020-03-31\n",
      "baby bum:2020-03-01 2020-03-31\n",
      "baby bum bum:2020-03-01 2020-03-31\n",
      "bum bum song:2020-03-01 2020-03-31\n",
      "bum bum bum song:2020-03-01 2020-03-31\n",
      "my bum:2020-03-01 2020-03-31\n",
      "little bum:2020-03-01 2020-03-31\n",
      "baby little bum:2020-03-01 2020-03-31\n",
      "bum bum tam tam:2020-03-01 2020-03-31\n",
      "bum bum tam:2020-03-01 2020-03-31\n",
      "kim bum:2020-03-01 2020-03-31\n",
      "best buy:2020-03-01 2020-03-31\n",
      "where:2020-03-01 2020-03-31\n",
      "walmart:2020-03-01 2020-03-31\n",
      "buy buy baby:2020-03-01 2020-03-31\n",
      "target:2020-03-01 2020-03-31\n",
      "buy a car:2020-03-01 2020-03-31\n",
      "best buy canada:2020-03-01 2020-03-31\n",
      "buy and sell:2020-03-01 2020-03-31\n",
      "best buy credit card:2020-03-01 2020-03-31\n",
      "best buy near me:2020-03-01 2020-03-31\n",
      "to capitalize:2020-03-01 2020-03-31\n",
      "how to capitalize:2020-03-01 2020-03-31\n",
      "capitalize title:2020-03-01 2020-03-31\n",
      "capitalize on:2020-03-01 2020-03-31\n",
      "when to capitalize:2020-03-01 2020-03-31\n",
      "capitalize first letter:2020-03-01 2020-03-31\n",
      "when do you capitalize:2020-03-01 2020-03-31\n",
      "capitalized:2020-03-01 2020-03-31\n",
      "capitalize seasons:2020-03-01 2020-03-31\n",
      "string capitalize:2020-03-01 2020-03-31\n",
      "charitable trust:2020-03-01 2020-03-31\n",
      "charitable foundation:2020-03-01 2020-03-31\n",
      "charitable donations:2020-03-01 2020-03-31\n",
      "charity:2020-03-01 2020-03-31\n",
      "charitable giving:2020-03-01 2020-03-31\n",
      "charitable contributions:2020-03-01 2020-03-31\n",
      "charitable donation:2020-03-01 2020-03-31\n",
      "charitable organizations:2020-03-01 2020-03-31\n",
      "charitable deduction:2020-03-01 2020-03-31\n",
      "charitable fund:2020-03-01 2020-03-31\n",
      "charity shop:2020-03-01 2020-03-31\n",
      "charity shops:2020-03-01 2020-03-31\n",
      "charity jobs:2020-03-01 2020-03-31\n",
      "charity commission:2020-03-01 2020-03-31\n",
      "charities:2020-03-01 2020-03-31\n",
      "charity work:2020-03-01 2020-03-31\n",
      "what is charity:2020-03-01 2020-03-31\n",
      "charity navigator:2020-03-01 2020-03-31\n",
      "cancer charity:2020-03-01 2020-03-31\n",
      "charity donation:2020-03-01 2020-03-31\n",
      "flights:2020-03-01 2020-03-31\n",
      "cheap flights:2020-03-01 2020-03-31\n",
      "cheap hotels:2020-03-01 2020-03-31\n",
      "cheap tickets:2020-03-01 2020-03-31\n",
      "cheap hotel:2020-03-01 2020-03-31\n",
      "cheap flight:2020-03-01 2020-03-31\n",
      "cheap cars:2020-03-01 2020-03-31\n",
      "cheap holidays:2020-03-01 2020-03-31\n",
      "cheap air:2020-03-01 2020-03-31\n",
      "cheap insurance:2020-03-01 2020-03-31\n",
      "the colony:2020-03-01 2020-03-31\n",
      "first colony:2020-03-01 2020-03-31\n",
      "colony house:2020-03-01 2020-03-31\n",
      "colony bank:2020-03-01 2020-03-31\n",
      "defence colony:2020-03-01 2020-03-31\n",
      "old colony:2020-03-01 2020-03-31\n",
      "colony hotel:2020-03-01 2020-03-31\n",
      "beach colony:2020-03-01 2020-03-31\n",
      "the colony tx:2020-03-01 2020-03-31\n",
      "lost colony:2020-03-01 2020-03-31\n",
      "the commoner:2020-03-01 2020-03-31\n",
      "commoner pittsburgh:2020-03-01 2020-03-31\n",
      "commoner meaning:2020-03-01 2020-03-31\n",
      "commoner definition:2020-03-01 2020-03-31\n",
      "the commoner pittsburgh:2020-03-01 2020-03-31\n",
      "commoner 5e:2020-03-01 2020-03-31\n",
      "barry commoner:2020-03-01 2020-03-31\n",
      "what is a commoner:2020-03-01 2020-03-31\n",
      "commoner tucson:2020-03-01 2020-03-31\n",
      "commoner menu:2020-03-01 2020-03-31\n",
      "community college:2020-03-01 2020-03-31\n",
      "community center:2020-03-01 2020-03-31\n",
      "community credit union:2020-03-01 2020-03-31\n",
      "community bank:2020-03-01 2020-03-31\n",
      "community centre:2020-03-01 2020-03-31\n",
      "community first:2020-03-01 2020-03-31\n",
      "community services:2020-03-01 2020-03-31\n",
      "community hospital:2020-03-01 2020-03-31\n",
      "community service:2020-03-01 2020-03-31\n",
      "community care:2020-03-01 2020-03-31\n",
      "compensate for:2020-03-01 2020-03-31\n",
      "to compensate:2020-03-01 2020-03-31\n",
      "compensate meaning:2020-03-01 2020-03-31\n",
      "compensate definition:2020-03-01 2020-03-31\n",
      "what is compensate:2020-03-01 2020-03-31\n",
      "compensation:2020-03-01 2020-03-31\n",
      "compensate synonym:2020-03-01 2020-03-31\n",
      "what does compensate:2020-03-01 2020-03-31\n",
      "compensate define:2020-03-01 2020-03-31\n",
      "meaning of compensate:2020-03-01 2020-03-31\n",
      "workers compensation:2020-03-01 2020-03-31\n",
      "flight compensation:2020-03-01 2020-03-31\n",
      "what is compensation:2020-03-01 2020-03-31\n",
      "compensation plan:2020-03-01 2020-03-31\n",
      "claim compensation:2020-03-01 2020-03-31\n",
      "deferred compensation:2020-03-01 2020-03-31\n",
      "workers compensation insurance:2020-03-01 2020-03-31\n",
      "work compensation:2020-03-01 2020-03-31\n",
      "va compensation:2020-03-01 2020-03-31\n",
      "injury compensation:2020-03-01 2020-03-31\n",
      "contribute to:2020-03-01 2020-03-31\n",
      "to contribute to:2020-03-01 2020-03-31\n",
      "contribute in:2020-03-01 2020-03-31\n",
      "contribute to ira:2020-03-01 2020-03-31\n",
      "401k:2020-03-01 2020-03-31\n",
      "contribute definition:2020-03-01 2020-03-31\n",
      "contribute to or in:2020-03-01 2020-03-31\n",
      "contribution:2020-03-01 2020-03-31\n",
      "roth ira:2020-03-01 2020-03-31\n",
      "contribute meaning:2020-03-01 2020-03-31\n",
      "contribution to:2020-03-01 2020-03-31\n",
      "ira contribution:2020-03-01 2020-03-31\n",
      "contribution limits:2020-03-01 2020-03-31\n",
      "sss:2020-03-01 2020-03-31\n",
      "sss contribution:2020-03-01 2020-03-31\n",
      "ira contribution limits:2020-03-01 2020-03-31\n",
      "contribution margin:2020-03-01 2020-03-31\n",
      "hsa contribution:2020-03-01 2020-03-31\n",
      "cooperative bank:2020-03-01 2020-03-31\n",
      "the cooperative:2020-03-01 2020-03-31\n",
      "cooperative society:2020-03-01 2020-03-31\n",
      "the cooperative bank:2020-03-01 2020-03-31\n",
      "credit cooperative:2020-03-01 2020-03-31\n",
      "cooperative bank login:2020-03-01 2020-03-31\n",
      "cooperative learning:2020-03-01 2020-03-31\n",
      "cooperative housing:2020-03-01 2020-03-31\n",
      "what is cooperative:2020-03-01 2020-03-31\n",
      "cooperative credit union:2020-03-01 2020-03-31\n",
      "corrupt file:2020-03-01 2020-03-31\n",
      "corrupt files:2020-03-01 2020-03-31\n",
      "corrupt countries:2020-03-01 2020-03-31\n",
      "corrupted:2020-03-01 2020-03-31\n",
      "corrupt data:2020-03-01 2020-03-31\n",
      "corrupt a file:2020-03-01 2020-03-31\n",
      "most corrupt countries:2020-03-01 2020-03-31\n",
      "corrupt definition:2020-03-01 2020-03-31\n",
      "corrupt government:2020-03-01 2020-03-31\n",
      "low cost:2020-03-01 2020-03-31\n",
      "cost of living:2020-03-01 2020-03-31\n",
      "cost plus:2020-03-01 2020-03-31\n",
      "voli low cost:2020-03-01 2020-03-31\n",
      "opportunity cost:2020-03-01 2020-03-31\n",
      "fixed cost:2020-03-01 2020-03-31\n",
      "cost control:2020-03-01 2020-03-31\n",
      "marginal cost:2020-03-01 2020-03-31\n",
      "jet cost:2020-03-01 2020-03-31\n",
      "cost of sales:2020-03-01 2020-03-31\n",
      "costliness meaning:2020-03-01 2020-03-31\n",
      "costly car:2020-03-01 2020-03-31\n",
      "expensive:2020-03-01 2020-03-31\n",
      "more costly:2020-03-01 2020-03-31\n",
      "costly phone:2020-03-01 2020-03-31\n",
      "world costly car:2020-03-01 2020-03-31\n",
      "costly meaning:2020-03-01 2020-03-31\n",
      "costly mobile:2020-03-01 2020-03-31\n",
      "costly cars:2020-03-01 2020-03-31\n",
      "very costly:2020-03-01 2020-03-31\n",
      "costly bike:2020-03-01 2020-03-31\n",
      "the crisis:2020-03-01 2020-03-31\n",
      "la crisis:2020-03-01 2020-03-31\n",
      "financial crisis:2020-03-01 2020-03-31\n",
      "water crisis:2020-03-01 2020-03-31\n",
      "infinite crisis:2020-03-01 2020-03-31\n",
      "cuban missile crisis:2020-03-01 2020-03-31\n",
      "crisis center:2020-03-01 2020-03-31\n",
      "crisis on infinite earths:2020-03-01 2020-03-31\n",
      "midlife crisis:2020-03-01 2020-03-31\n",
      "crisis action:2020-03-01 2020-03-31\n",
      "creditor:2020-03-01 2020-03-31\n",
      "the debtor:2020-03-01 2020-03-31\n",
      "creditor debtor:2020-03-01 2020-03-31\n",
      "debtor meaning:2020-03-01 2020-03-31\n",
      "what is debtor:2020-03-01 2020-03-31\n",
      "debt:2020-03-01 2020-03-31\n",
      "debtor definition:2020-03-01 2020-03-31\n",
      "debtor and creditor:2020-03-01 2020-03-31\n",
      "what is a debtor:2020-03-01 2020-03-31\n",
      "default password:2020-03-01 2020-03-31\n",
      "by default:2020-03-01 2020-03-31\n",
      "default browser:2020-03-01 2020-03-31\n",
      "what is default:2020-03-01 2020-03-31\n",
      "set as default:2020-03-01 2020-03-31\n",
      "default gateway:2020-03-01 2020-03-31\n",
      "bravely default:2020-03-01 2020-03-31\n",
      "default ip address:2020-03-01 2020-03-31\n",
      "c# default:2020-03-01 2020-03-31\n",
      "make google default:2020-03-01 2020-03-31\n",
      "attention:2020-03-01 2020-03-31\n",
      "deficit attention:2020-03-01 2020-03-31\n",
      "deficit disorder:2020-03-01 2020-03-31\n",
      "budget deficit:2020-03-01 2020-03-31\n",
      "budget:2020-03-01 2020-03-31\n",
      "deficit de atencion:2020-03-01 2020-03-31\n",
      "calorie deficit:2020-03-01 2020-03-31\n",
      "fiscal deficit:2020-03-01 2020-03-31\n",
      "attention deficit disorder:2020-03-01 2020-03-31\n",
      "what is deficit:2020-03-01 2020-03-31\n",
      "tax depreciation:2020-03-01 2020-03-31\n",
      "depreciation rate:2020-03-01 2020-03-31\n",
      "what is depreciation:2020-03-01 2020-03-31\n",
      "depreciation cost:2020-03-01 2020-03-31\n",
      "depreciation expense:2020-03-01 2020-03-31\n",
      "depreciation method:2020-03-01 2020-03-31\n",
      "car depreciation:2020-03-01 2020-03-31\n",
      "asset depreciation:2020-03-01 2020-03-31\n",
      "accounting depreciation:2020-03-01 2020-03-31\n",
      "accumulated:2020-03-01 2020-03-31\n",
      "great depression:2020-03-01 2020-03-31\n",
      "anxiety:2020-03-01 2020-03-31\n",
      "the great depression:2020-03-01 2020-03-31\n",
      "depression symptoms:2020-03-01 2020-03-31\n",
      "what is depression:2020-03-01 2020-03-31\n",
      "depression and anxiety:2020-03-01 2020-03-31\n",
      "depression test:2020-03-01 2020-03-31\n",
      "depression help:2020-03-01 2020-03-31\n",
      "depression quotes:2020-03-01 2020-03-31\n",
      "depression signs:2020-03-01 2020-03-31\n",
      "destitute meaning:2020-03-01 2020-03-31\n",
      "destitute definition:2020-03-01 2020-03-31\n",
      "define destitute:2020-03-01 2020-03-31\n",
      "meaning of destitute:2020-03-01 2020-03-31\n",
      "destitute synonym:2020-03-01 2020-03-31\n",
      "what is destitute:2020-03-01 2020-03-31\n",
      "definition of destitute:2020-03-01 2020-03-31\n",
      "destitute meaning in hindi:2020-03-01 2020-03-31\n",
      "what does destitute mean:2020-03-01 2020-03-31\n",
      "world domination:2020-03-01 2020-03-31\n",
      "domination video:2020-03-01 2020-03-31\n",
      "black domination:2020-03-01 2020-03-31\n",
      "domination game:2020-03-01 2020-03-31\n",
      "total domination:2020-03-01 2020-03-31\n",
      "downhill domination:2020-03-01 2020-03-31\n",
      "domination meaning:2020-03-01 2020-03-31\n",
      "domination hard:2020-03-01 2020-03-31\n",
      "emperor domination:2020-03-01 2020-03-31\n",
      "global domination:2020-03-01 2020-03-31\n",
      "blood donate:2020-03-01 2020-03-31\n",
      "where to donate:2020-03-01 2020-03-31\n",
      "plasma:2020-03-01 2020-03-31\n",
      "donate plasma:2020-03-01 2020-03-31\n",
      "donate money:2020-03-01 2020-03-31\n",
      "donate hair:2020-03-01 2020-03-31\n",
      "donate clothes:2020-03-01 2020-03-31\n",
      "my donate:2020-03-01 2020-03-31\n",
      "donate to charity:2020-03-01 2020-03-31\n",
      "blood donation:2020-03-01 2020-03-31\n",
      "plasma donation:2020-03-01 2020-03-31\n",
      "donation near me:2020-03-01 2020-03-31\n",
      "organ donation:2020-03-01 2020-03-31\n",
      "donation center:2020-03-01 2020-03-31\n",
      "goodwill donation:2020-03-01 2020-03-31\n",
      "goodwill:2020-03-01 2020-03-31\n",
      "donation pick up:2020-03-01 2020-03-31\n",
      "salvation army donation:2020-03-01 2020-03-31\n",
      "wish:2020-03-01 2020-03-31\n",
      "wish economize:2020-03-01 2020-03-31\n",
      "wish economize comprando:2020-03-01 2020-03-31\n",
      "farmacia economize:2020-03-01 2020-03-31\n",
      "economize agua:2020-03-01 2020-03-31\n",
      "economize rondonopolis:2020-03-01 2020-03-31\n",
      "economize telefone:2020-03-01 2020-03-31\n",
      "drogaria economize:2020-03-01 2020-03-31\n",
      "economize definition:2020-03-01 2020-03-31\n",
      "farmacia economize rondonopolis:2020-03-01 2020-03-31\n",
      "endow meaning:2020-03-01 2020-03-31\n",
      "to endow:2020-03-01 2020-03-31\n",
      "endowment:2020-03-01 2020-03-31\n",
      "endow with:2020-03-01 2020-03-31\n",
      "endow me:2020-03-01 2020-03-31\n",
      "endow define:2020-03-01 2020-03-31\n",
      "endow synonym:2020-03-01 2020-03-31\n",
      "endowed:2020-03-01 2020-03-31\n",
      "meaning of endow:2020-03-01 2020-03-31\n",
      "endowment meaning:2020-03-01 2020-03-31\n",
      "business:2020-03-01 2020-03-31\n",
      "entrepreneurial business:2020-03-01 2020-03-31\n",
      "entrepreneur:2020-03-01 2020-03-31\n",
      "entrepreneurship:2020-03-01 2020-03-31\n",
      "what is entrepreneurial:2020-03-01 2020-03-31\n",
      "entrepreneurial development:2020-03-01 2020-03-31\n",
      "entrepreneurial definition:2020-03-01 2020-03-31\n",
      "entrepreneurial meaning:2020-03-01 2020-03-31\n",
      "entrepreneurial skills:2020-03-01 2020-03-31\n",
      "private equity:2020-03-01 2020-03-31\n",
      "equity fund:2020-03-01 2020-03-31\n",
      "home equity:2020-03-01 2020-03-31\n"
     ]
    }
   ],
   "source": [
    "r = len(res)\n",
    "for i in range (0,600):\n",
    "  try:\n",
    "    data = dailydata.get_daily_data(res[i],2020,3,2020,3,wait_time=1,)\n",
    "    count.append(sum(data[res[i]+'_unscaled']))\n",
    "  except:\n",
    "    count.append(0)"
   ]
  },
  {
   "cell_type": "code",
   "execution_count": 14,
   "metadata": {
    "colab": {
     "base_uri": "https://localhost:8080/",
     "height": 34
    },
    "colab_type": "code",
    "id": "dr_PNpJng8Qv",
    "outputId": "dcbbdbbc-1ebc-4cbc-d9b1-67858281f368"
   },
   "outputs": [
    {
     "data": {
      "text/plain": [
       "600"
      ]
     },
     "execution_count": 14,
     "metadata": {
      "tags": []
     },
     "output_type": "execute_result"
    }
   ],
   "source": [
    "len(count)"
   ]
  },
  {
   "cell_type": "code",
   "execution_count": 0,
   "metadata": {
    "colab": {},
    "colab_type": "code",
    "id": "vgsMUApPdGhM"
   },
   "outputs": [],
   "source": [
    "count2=count"
   ]
  },
  {
   "cell_type": "code",
   "execution_count": 0,
   "metadata": {
    "colab": {},
    "colab_type": "code",
    "id": "RkV6cJMBoIPN"
   },
   "outputs": [],
   "source": [
    "df = pd.DataFrame(count)\n",
    "df.to_csv('fears.csv', index=False)"
   ]
  }
 ],
 "metadata": {
  "colab": {
   "collapsed_sections": [],
   "name": "FEARS_Index.ipynb",
   "provenance": []
  },
  "kernelspec": {
   "display_name": "Python 3",
   "language": "python",
   "name": "python3"
  },
  "language_info": {
   "codemirror_mode": {
    "name": "ipython",
    "version": 3
   },
   "file_extension": ".py",
   "mimetype": "text/x-python",
   "name": "python",
   "nbconvert_exporter": "python",
   "pygments_lexer": "ipython3",
   "version": "3.7.1"
  }
 },
 "nbformat": 4,
 "nbformat_minor": 1
}
